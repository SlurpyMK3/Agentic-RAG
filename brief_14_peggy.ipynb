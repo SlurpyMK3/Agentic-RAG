{
 "cells": [
  {
   "cell_type": "code",
   "execution_count": 155,
   "id": "65e4a9b3-3dbd-4ccb-84df-1508fc07fc7c",
   "metadata": {},
   "outputs": [],
   "source": [
    "# %pip install langchain-community tiktoken langchainhub faiss-cpu langchain langgraph langchain-text-splitters beautifulsoup4 sentence-transformers langchain-huggingface transformers accelerate torch \n"
   ]
  },
  {
   "cell_type": "markdown",
   "id": "23ca0446-b40e-4fad-bb01-69279d41bf5f",
   "metadata": {},
   "source": [
    "### Import des Librairies"
   ]
  },
  {
   "cell_type": "code",
   "execution_count": 2,
   "id": "79343ef2-ebb8-442f-870c-8b201ab4348c",
   "metadata": {},
   "outputs": [],
   "source": [
    "import getpass\n",
    "import os\n",
    "import pandas as pd\n",
    "import time\n"
   ]
  },
  {
   "cell_type": "markdown",
   "id": "9ab4d244-fa62-43b2-9113-37f6270ccaef",
   "metadata": {},
   "source": [
    "### Récupération des données"
   ]
  },
  {
   "cell_type": "code",
   "execution_count": 5,
   "id": "d5dd87b8-2d18-4246-b1b7-02f785f0510d",
   "metadata": {},
   "outputs": [
    {
     "name": "stdout",
     "output_type": "stream",
     "text": [
      "[Document(metadata={'source': 'C:/Users/peggy/Documents/Fabeon/deep_learning/AAPL.csv', 'row': 0}, page_content='Date: 2023-12-16 22:00:00 UTC\\nArticle_title: My 6 Largest Portfolio Holdings Heading Into 2024 -- and the Important Investing Lesson I Learned From Each One\\nStock_symbol: AAPL\\nUrl: https://www.nasdaq.com/articles/my-6-largest-portfolio-holdings-heading-into-2024-and-the-important-investing-lesson-i\\nPublisher: \\nAuthor: \\nArticle: After an absolute disaster of a year in 2022, the stock market appears to have turned the corner. Each of the major market indexes has gained more than 20% from their respective trough. Perhaps more importantly, the S&P 500 and the Nasdaq Composite are within striking distance of new highs, which will check the final box marking the start of a new bull market.\\nClosing out the old and ringing in the new is a great time for examination, and one of the places I start is with my portfolio. A review of my top investments and how they came to be that way can offer valuable insight for the future.\\nHere\\'s a look at my six largest holdings heading into 2024 (as of the market close on Dec. 15) and the incredibly valuable lesson I learned from each one.\\nImage source: Getty Images.\\nNo. 6: Nvidia\\nEvery investor has one -- the \"stock that got away.\" The one you meant to buy, only to find that it got away from you and has risen 100%, 500%, or even 1,000%. In my case, that stock was Nvidia (NASDAQ: NVDA). I had owned a few shares of the graphics processing units (GPU) pioneer in the early days of my investing journey but ultimately sold them in an unprovoked bid of tax-loss harvesting in early 2010.\\nI always meant to buy it back, but the stock price meandered for much of the next five years, and I ultimately lost confidence. Things changed quickly in 2016 when the stock tripled. After that, it just kept getting away from me.\\nFast forward to early 2018. Nvidia still dominated the discrete desktop GPU space, controlling roughly 70% of the market. The company\\'s graphics cards were the processor of choice for cryptocurrency mining, which was booming. Furthermore, there was an ongoing push toward autonomous driving. It was clear that CEO Jensen Huang had a knack for skating to where the puck was going -- recognizing technology trends on the fly and adapting Nvidia\\'s processors and the accompanying software to meet that need.\\nAfter much deliberation, I held my nose and bought Nvidia anyway -- even though the stock had risen 600% over the preceding two years. I have added to my stake several times since. Over the past few years, Nvidia has once again adapted to meet a compelling technology need, becoming the gold standard for generative AI applications.\\nSince that initial purchase, Nvidia has soared 768%, and the stock has become my sixth-largest holding, amounting to nearly 6% of my portfolio. The lesson here? It\\'s never too late to buy a quality company, even if the stock has already risen many times over.\\nNo. 5 and 4: Shopify and Amazon\\nLong after Amazon had established itself as the world\\'s largest digital retailer, Shopify (NYSE: SHOP) came on the scene with a different approach to e-commerce. Shopify\\'s founders, having discovered firsthand the difficulties inherent in starting an online sales platform, pivoted the business from selling snowboards to providing customizable templates and other tools that made setting up and running an e-commerce business a snap.\\nBy solving a common problem among digital retailers, Shopify carved out a profitable niche for itself in a market that was already (and still is) dominated by Amazon. While it isn\\'t an exact apples-to-apples comparison, it helps illustrate an age-old truth in investing that I learned from owning this stock -- there\\'s a Pepsi for every Coke.\\nThere\\'s another lesson here. I had long been a shareholder of Amazon, but I recognized the value Shopify could bring to the online sales space. Despite the fact that e-commerce was already well represented in my portfolio, I made a sizable investment in Shopify.\\nThat decision turned out well, as both companies have continued to prosper in the age of digital retail. It also turned out well for me as an investor. Since my first purchase of Shopify shares, the stock is up more than 1,446%, while Amazon has gained 844%. Shopify and Amazon are my fourth and fifth largest holdings heading into 2024, each representing roughly 6% of my portfolio.\\nNo. 3: Apple\\nThere\\'s little question that Apple (NASDAQ: AAPL) has become one of the most successful companies in history. Yet, at times over the past few years, some investors concluded the company had reached its zenith. Apple reached a market cap of $1 trillion in 2018, so how much higher could it go?\\nThere were other worries. As penetration has risen, global smartphone sales have slowed. Since Apple\\'s flagship product -- the iPhone -- historically generates more than half the company\\'s revenue, investor reservations are understandable.\\nDespite these challenges, Apple has continued to grow. CEO Tim Cook has succeeded in expanding Apple\\'s services business to become the company\\'s second-biggest breadwinner, behind just the iPhone. The segment brought in $85 billion in fiscal 2023 (ended Sept. 30), making it comparable to a top 50 company in the Fortune 500. Furthermore, the iPhone continues to dominate where it matters, capturing a record 45% of worldwide smartphone revenue and 85% of profits in the second quarter, according to Counterpoint Research.\\nFears that Apple simply couldn\\'t go any higher turned out to be unfounded, an important lesson for investors as its market cap has tripled since 2018. Since my first purchase in 2008, Apple\\'s stock price has surged more than 3,400% to become my third-largest position at 8% of my portfolio. I\\'m confident there\\'s more to come.\\nNo. 2: Mercadolibre\\nIt\\'s likely that many investors have never heard of MercadoLibre (NASDAQ: MELI). The company, which began as a local online auction site, has evolved into the largest e-commerce and payments ecosystem in Latin America, serving 18 countries in the region.\\nMercadoLibre not only provides a marketplace for buyers and sellers but also handles shipping and logistics, warehouse and cross-docking, digital payments, consumer and merchant financing, digital wallets, and more. Think of it as the Amazon, Shopify, and PayPal of Latin America all rolled into one.\\nMany investors have avoided the stock because of the risks inherent in the region, which is understandable. For example, Argentina -- MercadoLibre\\'s birthplace and one of its biggest markets -- has an inflation rate that clocks in at 143%, and the country just devalued its currency by 50%. Other countries in the region grapple with hyperinflation, economic turmoil, charges of political corruption, poor infrastructure, and more.\\nYet those risks pale in the context of the opportunity. Latin America is years behind the U.S. in terms of e-commerce and digital payment penetration, yet adoption continues to grow. Furthermore, Latin America has twice the population of the U.S. and is the fastest-growing e-commerce market in the world, according to Americas Market Intelligence. Finally, because MercadoLibre takes a cut of each transaction, it has sidestepped many of those risks. As a result, its revenue grew 50% in 2022 while net income soared 480%, a trend that has been ongoing for more than a decade.\\nUnderstanding the risk, viewed through the lens of the significant long-term opportunity, can provide important insight, which gave me the confidence to buy the stock. My rather modest initial investment in MercadoLibre in 2009 has grown by more than 7,300%, and the company now represents 10% of my portfolio. Not bad for a \"risky\" stock.\\nNo. 1: Netflix\\nNetflix (NASDAQ: NFLX) was the very first stock I bought when I started investing in late 2007. After incurring a late fee at Blockbuster (remember them?) that was more than the cost of buying the movie new, I cut up my membership card and subscribed to Netflix. As an extremely satisfied customer, it made perfect sense to buy the stock once I started investing.\\nBack then, the company was a DVD-by-mail service that had recently begun experimenting with streaming video. Netflix had achieved remarkable penetration in its earliest markets, and I surmised the company could expand its success across the country, which was the basis of my investing thesis.\\nThe company has achieved all that and more, becoming the world\\'s largest subscription streaming video service. The value of the initial shares I bought in 2007 has surged more than 19,000%, making Netflix my largest holding at nearly 11% of my portfolio.\\nHowever, those life-changing gains were only possible because I held the stock for the duration, which is easier said than done. Remember the \"Qwikster\" fiasco of 2011? All the \"Netflix killers\" over the years? How about the loss of 1.2 million subscribers early last year?\\nThere were plenty of excuses to sell Netflix over the years, but for me, the investing thesis never changed, so I held on. And this long-term buy-and-hold strategy continues to win out.\\nShould you invest $1,000 in Nvidia right now?\\nBefore you buy stock in Nvidia, consider this:\\nThe Motley Fool Stock Advisor analyst team just identified what they believe are the 10 best stocks for investors to buy now... and Nvidia wasn\\'t one of them. The 10 stocks that made the cut could produce monster returns in the coming years.\\nStock Advisor provides investors with an easy-to-follow blueprint for success, including guidance on building a portfolio, regular updates from analysts, and two new stock picks each month. The Stock Advisor service has more than tripled the return of S&P 500 since 2002*.\\nSee the 10 stocks\\n*Stock Advisor returns as of December 11, 2023\\nJohn Mackey, former CEO of Whole Foods Market, an Amazon subsidiary, is a member of The Motley Fool’s board of directors. Danny Vena has positions in Amazon, Apple, MercadoLibre, Netflix, Nvidia, PayPal, and Shopify and has the following options: long January 2024 $95 calls on PayPal. The Motley Fool has positions in and recommends Amazon, Apple, MercadoLibre, Netflix, Nvidia, PayPal, and Shopify. The Motley Fool recommends the following options: long January 2024 $47.50 calls on Coca-Cola and short December 2023 $67.50 puts on PayPal. The Motley Fool has a disclosure policy.\\nThe views and opinions expressed herein are the views and opinions of the author and do not necessarily reflect those of Nasdaq, Inc.\\nLsa_summary: 3: Apple There\\'s little question that Apple (NASDAQ: AAPL) has become one of the most successful companies in history. It was clear that CEO Jensen Huang had a knack for skating to where the puck was going -- recognizing technology trends on the fly and adapting Nvidia\\'s processors and the accompanying software to meet that need. The company, which began as a local online auction site, has evolved into the largest e-commerce and payments ecosystem in Latin America, serving 18 countries in the region.\\nLuhn_summary: 3: Apple There\\'s little question that Apple (NASDAQ: AAPL) has become one of the most successful companies in history. Danny Vena has positions in Amazon, Apple, MercadoLibre, Netflix, Nvidia, PayPal, and Shopify and has the following options: long January 2024 $95 calls on PayPal. The Motley Fool has positions in and recommends Amazon, Apple, MercadoLibre, Netflix, Nvidia, PayPal, and Shopify.\\nTextrank_summary: 3: Apple There\\'s little question that Apple (NASDAQ: AAPL) has become one of the most successful companies in history. Before you buy stock in Nvidia, consider this: The Motley Fool Stock Advisor analyst team just identified what they believe are the 10 best stocks for investors to buy now... and Nvidia wasn\\'t one of them. See the 10 stocks *Stock Advisor returns as of December 11, 2023 John Mackey, former CEO of Whole Foods Market, an Amazon subsidiary, is a member of The Motley Fool’s board of directors.\\nLexrank_summary: 3: Apple There\\'s little question that Apple (NASDAQ: AAPL) has become one of the most successful companies in history. 6: Nvidia Every investor has one -- the \"stock that got away.\" Should you invest $1,000 in Nvidia right now?'), Document(metadata={'source': 'C:/Users/peggy/Documents/Fabeon/deep_learning/AAPL.csv', 'row': 1}, page_content='Date: 2023-12-16 22:00:00 UTC\\nArticle_title: Brokers Suggest Investing in Apple (AAPL): Read This Before Placing a Bet\\nStock_symbol: AAPL\\nUrl: https://www.nasdaq.com/articles/brokers-suggest-investing-in-apple-aapl%3A-read-this-before-placing-a-bet\\nPublisher: \\nAuthor: \\nArticle: When deciding whether to buy, sell, or hold a stock, investors often rely on analyst recommendations. Media reports about rating changes by these brokerage-firm-employed (or sell-side) analysts often influence a stock\\'s price, but are they really important?\\nLet\\'s take a look at what these Wall Street heavyweights have to say about Apple (AAPL) before we discuss the reliability of brokerage recommendations and how to use them to your advantage.\\nApple currently has an average brokerage recommendation (ABR) of 1.71, on a scale of 1 to 5 (Strong Buy to Strong Sell), calculated based on the actual recommendations (Buy, Hold, Sell, etc.) made by 29 brokerage firms. An ABR of 1.71 approximates between Strong Buy and Buy.\\nOf the 29 recommendations that derive the current ABR, 17 are Strong Buy and three are Buy. Strong Buy and Buy respectively account for 58.6% and 10.3% of all recommendations.\\nBrokerage Recommendation Trends for AAPL\\n\\n\\nCheck price target & stock forecast for Apple here>>>\\n\\nThe ABR suggests buying Apple, but making an investment decision solely on the basis of this information might not be a good idea. According to several studies, brokerage recommendations have little to no success guiding investors to choose stocks with the most potential for price appreciation.\\nAre you wondering why? The vested interest of brokerage firms in a stock they cover often results in a strong positive bias of their analysts in rating it. Our research shows that for every \"Strong Sell\" recommendation, brokerage firms assign five \"Strong Buy\" recommendations.\\nThis means that the interests of these institutions are not always aligned with those of retail investors, giving little insight into the direction of a stock\\'s future price movement. It would therefore be best to use this information to validate your own analysis or a tool that has proven to be highly effective at predicting stock price movements.\\nWith an impressive externally audited track record, our proprietary stock rating tool, the Zacks Rank, which classifies stocks into five groups, ranging from Zacks Rank #1 (Strong Buy) to Zacks Rank #5 (Strong Sell), is a reliable indicator of a stock\\'s near -term price performance. So, validating the Zacks Rank with ABR could go a long way in making a profitable investment decision.\\nABR Should Not Be Confused With Zacks Rank\\nAlthough both Zacks Rank and ABR are displayed in a range of 1-5, they are different measures altogether.\\nThe ABR is calculated solely based on brokerage recommendations and is typically displayed with decimals (example: 1.28). In contrast, the Zacks Rank is a quantitative model allowing investors to harness the power of earnings estimate revisions. It is displayed in whole numbers -- 1 to 5.\\nAnalysts employed by brokerage firms have been and continue to be overly optimistic with their recommendations. Since the ratings issued by these analysts are more favorable than their research would support because of the vested interest of their employers, they mislead investors far more often than they guide.\\nOn the other hand, earnings estimate revisions are at the core of the Zacks Rank. And empirical research shows a strong correlation between trends in earnings estimate revisions and near-term stock price movements.\\nIn addition, the different Zacks Rank grades are applied proportionately to all stocks for which brokerage analysts provide current-year earnings estimates. In other words, this tool always maintains a balance among its five ranks.\\nThere is also a key difference between the ABR and Zacks Rank when it comes to freshness. When you look at the ABR, it may not be up-to-date. Nonetheless, since brokerage analysts constantly revise their earnings estimates to reflect changing business trends, and their actions get reflected in the Zacks Rank quickly enough, it is always timely in predicting future stock prices.\\nIs AAPL a Good Investment?\\nIn terms of earnings estimate revisions for Apple, the Zacks Consensus Estimate for the current year has remained unchanged over the past month at $6.56.\\nAnalysts\\' steady views regarding the company\\'s earnings prospects, as indicated by an unchanged consensus estimate, could be a legitimate reason for the stock to perform in line with the broader market in the near term.\\nThe size of the recent change in the consensus estimate, along with three other factors related to earnings estimates, has resulted in a Zacks Rank #3 (Hold) for Apple. You can see the complete list of today\\'s Zacks Rank #1 (Strong Buy) stocks here >>>>\\nIt may therefore be prudent to be a little cautious with the Buy-equivalent ABR for Apple.\\nZacks Reveals ChatGPT \"Sleeper\" Stock\\nOne little-known company is at the heart of an especially brilliant Artificial Intelligence sector. By 2030, the AI industry is predicted to have an internet and iPhone-scale economic impact of $15.7 Trillion.\\nAs a service to readers, Zacks is providing a bonus report that names and explains this explosive growth stock and 4 other \"must buys.\" Plus more.\\nDownload Free ChatGPT Stock Report Right Now >>\\nWant the latest recommendations from Zacks Investment Research? Today, you can download 7 Best Stocks for the Next 30 Days. Click to get this free report\\nApple Inc. (AAPL) : Free Stock Analysis Report\\nTo read this article on Zacks.com click here.\\nZacks Investment Research\\nThe views and opinions expressed herein are the views and opinions of the author and do not necessarily reflect those of Nasdaq, Inc.\\nLsa_summary: Let\\'s take a look at what these Wall Street heavyweights have to say about Apple (AAPL) before we discuss the reliability of brokerage recommendations and how to use them to your advantage. Brokerage Recommendation Trends for AAPL Is AAPL a Good Investment?\\nLuhn_summary: Click to get this free report Apple Inc. (AAPL) : Free Stock Analysis Report To read this article on Zacks.com click here. Let\\'s take a look at what these Wall Street heavyweights have to say about Apple (AAPL) before we discuss the reliability of brokerage recommendations and how to use them to your advantage. Brokerage Recommendation Trends for AAPL\\nTextrank_summary: Let\\'s take a look at what these Wall Street heavyweights have to say about Apple (AAPL) before we discuss the reliability of brokerage recommendations and how to use them to your advantage. Brokerage Recommendation Trends for AAPL Is AAPL a Good Investment?\\nLexrank_summary: Brokerage Recommendation Trends for AAPL Let\\'s take a look at what these Wall Street heavyweights have to say about Apple (AAPL) before we discuss the reliability of brokerage recommendations and how to use them to your advantage. Is AAPL a Good Investment?'), Document(metadata={'source': 'C:/Users/peggy/Documents/Fabeon/deep_learning/AAPL.csv', 'row': 2}, page_content='Date: 2023-12-16 21:00:00 UTC\\nArticle_title: Company News for Dec 19, 2023\\nStock_symbol: AAPL\\nUrl: https://www.nasdaq.com/articles/company-news-for-dec-19-2023\\nPublisher: \\nAuthor: \\nArticle: Shares of Apple Inc. AAPL lost 0.9% on China’s ban on the company’s iPhones gathering pace.\\nPrologis, Inc.’s PLD shares fell 1.2% on the real estate sector continuing to make losses.\\nShares of United States Steel Corporation X soared 26.1% after Japan-based Nippon Steel announced that it would buy the company in a $14.9 billion deal that includes debt.\\nShares of The AES Corporation AES fell 1.7% on utilities becoming one of the biggest losing sectors of the day.\\nZacks Reveals ChatGPT \"Sleeper\" Stock\\nOne little-known company is at the heart of an especially brilliant Artificial Intelligence sector. By 2030, the AI industry is predicted to have an internet and iPhone-scale economic impact of $15.7 Trillion.\\nAs a service to readers, Zacks is providing a bonus report that names and explains this explosive growth stock and 4 other \"must buys.\" Plus more.\\nDownload Free ChatGPT Stock Report Right Now >>\\nWant the latest recommendations from Zacks Investment Research? Today, you can download 7 Best Stocks for the Next 30 Days. Click to get this free report\\nApple Inc. (AAPL) : Free Stock Analysis Report\\nPrologis, Inc. (PLD) : Free Stock Analysis Report\\nUnited States Steel Corporation (X) : Free Stock Analysis Report\\nThe AES Corporation (AES) : Free Stock Analysis Report\\nTo read this article on Zacks.com click here.\\nZacks Investment Research\\nThe views and opinions expressed herein are the views and opinions of the author and do not necessarily reflect those of Nasdaq, Inc.\\nLsa_summary: Shares of Apple Inc. AAPL lost 0.9% on China’s ban on the company’s iPhones gathering pace. Click to get this free report Apple Inc. (AAPL) : Free Stock Analysis Report Prologis, Inc. (PLD) : Free Stock Analysis Report United States Steel Corporation (X) : Free Stock Analysis Report The AES Corporation (AES) : Free Stock Analysis Report To read this article on Zacks.com click here. Prologis, Inc.’s PLD shares fell 1.2% on the real estate sector continuing to make losses.\\nLuhn_summary: Click to get this free report Apple Inc. (AAPL) : Free Stock Analysis Report Prologis, Inc. (PLD) : Free Stock Analysis Report United States Steel Corporation (X) : Free Stock Analysis Report The AES Corporation (AES) : Free Stock Analysis Report To read this article on Zacks.com click here. Shares of Apple Inc. AAPL lost 0.9% on China’s ban on the company’s iPhones gathering pace. Shares of United States Steel Corporation X soared 26.1% after Japan-based Nippon Steel announced that it would buy the company in a $14.9 billion deal that includes debt.\\nTextrank_summary: Click to get this free report Apple Inc. (AAPL) : Free Stock Analysis Report Prologis, Inc. (PLD) : Free Stock Analysis Report United States Steel Corporation (X) : Free Stock Analysis Report The AES Corporation (AES) : Free Stock Analysis Report To read this article on Zacks.com click here. Shares of Apple Inc. AAPL lost 0.9% on China’s ban on the company’s iPhones gathering pace. By 2030, the AI industry is predicted to have an internet and iPhone-scale economic impact of $15.7 Trillion.\\nLexrank_summary: Click to get this free report Apple Inc. (AAPL) : Free Stock Analysis Report Prologis, Inc. (PLD) : Free Stock Analysis Report United States Steel Corporation (X) : Free Stock Analysis Report The AES Corporation (AES) : Free Stock Analysis Report To read this article on Zacks.com click here. Shares of Apple Inc. AAPL lost 0.9% on China’s ban on the company’s iPhones gathering pace. Shares of The AES Corporation AES fell 1.7% on utilities becoming one of the biggest losing sectors of the day.'), Document(metadata={'source': 'C:/Users/peggy/Documents/Fabeon/deep_learning/AAPL.csv', 'row': 3}, page_content='Date: 2023-12-16 21:00:00 UTC\\nArticle_title: NVIDIA (NVDA) Up 243% YTD: Will It Carry Momentum in 2024?\\nStock_symbol: AAPL\\nUrl: https://www.nasdaq.com/articles/nvidia-nvda-up-243-ytd%3A-will-it-carry-momentum-in-2024\\nPublisher: \\nAuthor: \\nArticle: NVIDIA Corporation NVDA has witnessed a remarkable run, showcasing a staggering 243% year-to-date surge in its stock price, pushing the company to the forefront of technology and innovation. NVIDIA also achieved a massive milestone in May 2023 by joining the exclusive club of companies with a $1 trillion market capitalization.\\nThe surge reflects investors\\' confidence in NVIDIA\\'s strategic positioning, robust financial performance and pivotal role in shaping transformative technologies like artificial intelligence (AI), gaming and data center solutions.\\nHowever, the looming question remains — Can NVIDIA sustain this momentum through 2024?\\nNVIDIA Corporation Price and Consensus\\nNVIDIA Corporation price-consensus-chart | NVIDIA Corporation Quote\\nWill GenAI Investments Aid NVDA’s Surge?\\nNVIDIA’s robust stock price performance has been primarily driven by hopes that the company will be a prime beneficiary of growing investments in generative AI. Given generative AI’s inherited opportunities and the company’s leadership in the space, we believe the NVDA stock is poised to carry the momentum in 2024.\\nNVIDIA dominates the market for AI chips. The meteoric rise of OpenAI’s ChatGPT and its adoption among enterprises have already proven generative AI technology’s usefulness across multiple industries, including marketing, advertising, customer service, education, content creation, healthcare, automotive, energy & utilities and video game development.\\nThe growing demand to modernize the workflow across industries is expected to drive the demand for generative AI applications. The global generative AI market size is anticipated to reach $109.37 billion by 2030, according to a new report by Grand View Research. The market is expected to expand at a CAGR of 35.6% from 2023 to 2030.\\nHowever, generative AI requires vast knowledge to create content and needs huge computational power. As a result, enterprises looking to create generative AI-based applications will be required to upgrade their existing network infrastructure.\\nNVIDIA’s next-generation chips with high computing power can be the top choice for enterprises. The company’s GPUs are already being applied in AI models. This is expanding NVDA’s footprint in untapped markets like automotive, healthcare and manufacturing.\\nThe generative AI revolution is likely to create huge demand for its next-generation high computing powerful chips. Considering surging AI investments across the data center end market, NVDA expects its fourth-quarter fiscal 2024 revenues to reach $20 billion from $6.05 billion in the year-ago quarter.\\nAdditionally, NVIDIA currently carries a Zacks Rank #2 (Buy) and has a Growth Score of A. Our research shows that stocks with a Growth Score of A or B when combined with a Zacks Rank #1 (Strong Buy) or #2 offer the best investment opportunities for investors. Thus, the company appears to be a compelling investment proposition at the moment.\\nOther Stocks in the $1T Club\\nApart from NVIDIA, only four companies — Apple Inc. AAPL, Microsoft Corporation MSFT, Alphabet Inc. GOOGL and Amazon.com, Inc. AMZN — have a market cap of more than $1 trillion at present. AAPL has the highest market cap of $3.05 trillion, followed by MSFT’s $2.77 trillion, GOOGL’s $1.71 trillion and AMZN’s $1.59 trillion. At yesterday’s closing price of $500.77, NVDA has a market capitalization of $1.23 trillion, positioning it in the fifth spot.\\nShares of Apple, Microsoft, Alphabet and Amazon have rallied 50.7%, 55.4%, 53.9% and 83.2%, respectively, year to date. Currently, AMZN sports a Zacks Rank #1, while AAPL, MSFT and GOOGL each carry a Zacks Rank #3 (Hold). You can see the complete list of today’s Zacks #1 Rank stocks here.\\nZacks Reveals ChatGPT \"Sleeper\" Stock\\nOne little-known company is at the heart of an especially brilliant Artificial Intelligence sector. By 2030, the AI industry is predicted to have an internet and iPhone-scale economic impact of $15.7 Trillion.\\nAs a service to readers, Zacks is providing a bonus report that names and explains this explosive growth stock and 4 other \"must buys.\" Plus more.\\nDownload Free ChatGPT Stock Report Right Now >>\\nWant the latest recommendations from Zacks Investment Research? Today, you can download 7 Best Stocks for the Next 30 Days. Click to get this free report\\nAmazon.com, Inc. (AMZN) : Free Stock Analysis Report\\nApple Inc. (AAPL) : Free Stock Analysis Report\\nMicrosoft Corporation (MSFT) : Free Stock Analysis Report\\nNVIDIA Corporation (NVDA) : Free Stock Analysis Report\\nAlphabet Inc. (GOOGL) : Free Stock Analysis Report\\nTo read this article on Zacks.com click here.\\nZacks Investment Research\\nThe views and opinions expressed herein are the views and opinions of the author and do not necessarily reflect those of Nasdaq, Inc.\\nLsa_summary: Other Stocks in the $1T Club Apart from NVIDIA, only four companies — Apple Inc. AAPL, Microsoft Corporation MSFT, Alphabet Inc. GOOGL and Amazon.com, Inc. AMZN — have a market cap of more than $1 trillion at present. AAPL has the highest market cap of $3.05 trillion, followed by MSFT’s $2.77 trillion, GOOGL’s $1.71 trillion and AMZN’s $1.59 trillion. Currently, AMZN sports a Zacks Rank #1, while AAPL, MSFT and GOOGL each carry a Zacks Rank #3 (Hold).\\nLuhn_summary: Other Stocks in the $1T Club Apart from NVIDIA, only four companies — Apple Inc. AAPL, Microsoft Corporation MSFT, Alphabet Inc. GOOGL and Amazon.com, Inc. AMZN — have a market cap of more than $1 trillion at present. Click to get this free report Amazon.com, Inc. (AMZN) : Free Stock Analysis Report Apple Inc. (AAPL) : Free Stock Analysis Report Microsoft Corporation (MSFT) : Free Stock Analysis Report NVIDIA Corporation (NVDA) : Free Stock Analysis Report Alphabet Inc. (GOOGL) : Free Stock Analysis Report To read this article on Zacks.com click here. AAPL has the highest market cap of $3.05 trillion, followed by MSFT’s $2.77 trillion, GOOGL’s $1.71 trillion and AMZN’s $1.59 trillion.\\nTextrank_summary: Other Stocks in the $1T Club Apart from NVIDIA, only four companies — Apple Inc. AAPL, Microsoft Corporation MSFT, Alphabet Inc. GOOGL and Amazon.com, Inc. AMZN — have a market cap of more than $1 trillion at present. Click to get this free report Amazon.com, Inc. (AMZN) : Free Stock Analysis Report Apple Inc. (AAPL) : Free Stock Analysis Report Microsoft Corporation (MSFT) : Free Stock Analysis Report NVIDIA Corporation (NVDA) : Free Stock Analysis Report Alphabet Inc. (GOOGL) : Free Stock Analysis Report To read this article on Zacks.com click here. AAPL has the highest market cap of $3.05 trillion, followed by MSFT’s $2.77 trillion, GOOGL’s $1.71 trillion and AMZN’s $1.59 trillion.\\nLexrank_summary: Other Stocks in the $1T Club Apart from NVIDIA, only four companies — Apple Inc. AAPL, Microsoft Corporation MSFT, Alphabet Inc. GOOGL and Amazon.com, Inc. AMZN — have a market cap of more than $1 trillion at present. AAPL has the highest market cap of $3.05 trillion, followed by MSFT’s $2.77 trillion, GOOGL’s $1.71 trillion and AMZN’s $1.59 trillion. Currently, AMZN sports a Zacks Rank #1, while AAPL, MSFT and GOOGL each carry a Zacks Rank #3 (Hold).'), Document(metadata={'source': 'C:/Users/peggy/Documents/Fabeon/deep_learning/AAPL.csv', 'row': 4}, page_content='Date: 2023-12-16 21:00:00 UTC\\nArticle_title: Pre-Market Most Active for Dec 19, 2023 : BMY, SQQQ, NIO, UBS, TQQQ, UBER, NVDA, AAPL, GOTU, CAN, TSLA, PLTR\\nStock_symbol: AAPL\\nUrl: https://www.nasdaq.com/articles/pre-market-most-active-for-dec-19-2023-%3A-bmy-sqqq-nio-ubs-tqqq-uber-nvda-aapl-gotu-can\\nPublisher: \\nAuthor: \\nArticle: The NASDAQ 100 Pre-Market Indicator is up 10.13 to 16,739.93. The total Pre-Market volume is currently 34,708,820 shares traded.\\n\\nThe following are the most active stocks for the pre-market session:\\n\\nBristol-Myers Squibb Company (BMY) is +0.13 at $51.47, with 2,493,019 shares traded. BMY\\'s current last sale is 85.78% of the target price of $60.\\n\\nProShares UltraPro Short QQQ (SQQQ) is -0.07 at $13.86, with 2,371,263 shares traded., following a 52-week high recorded in prior regular session.\\n\\nNIO Inc. (NIO) is +0.16 at $8.51, with 2,030,567 shares traded. NIO\\'s current last sale is 81.83% of the target price of $10.4.\\n\\nUBS AG (UBS) is +0.9 at $30.10, with 1,688,120 shares traded. UBS\\'s current last sale is 118.13% of the target price of $25.48.\\n\\nProShares UltraPro QQQ (TQQQ) is +0.29 at $50.56, with 1,511,601 shares traded., following a 52-week high recorded in prior regular session.\\n\\nUber Technologies, Inc. (UBER) is +0.0505 at $61.78, with 1,237,148 shares traded. As reported by Zacks, the current mean recommendation for UBER is in the \"buy range\".\\n\\nNVIDIA Corporation (NVDA) is -6.67 at $494.10, with 1,110,574 shares traded. Over the last four weeks they have had 12 up revisions for the earnings forecast, for the fiscal quarter ending Jan 2024. The consensus EPS forecast is $4.13. As reported by Zacks, the current mean recommendation for NVDA is in the \"buy range\".\\n\\nApple Inc. (AAPL) is +0.86 at $196.75, with 1,018,616 shares traded. As reported by Zacks, the current mean recommendation for AAPL is in the \"buy range\".\\n\\nGaotu Techedu Inc. (GOTU) is -0.23 at $3.50, with 827,804 shares traded. GOTU\\'s current last sale is 152.17% of the target price of $2.3.\\n\\nCanaan Inc. (CAN) is +0.19 at $2.39, with 816,633 shares traded. As reported by Zacks, the current mean recommendation for CAN is in the \"strong buy range\".\\n\\nTesla, Inc. (TSLA) is +0.82 at $252.90, with 758,351 shares traded. TSLA\\'s current last sale is 101.16% of the target price of $250.\\n\\nPalantir Technologies Inc. (PLTR) is +0.14 at $17.98, with 635,719 shares traded. PLTR\\'s current last sale is 112.38% of the target price of $16.\\nThe views and opinions expressed herein are the views and opinions of the author and do not necessarily reflect those of Nasdaq, Inc.\\nLsa_summary: Apple Inc. (AAPL) is +0.86 at $196.75, with 1,018,616 shares traded. As reported by Zacks, the current mean recommendation for AAPL is in the \"buy range\". ProShares UltraPro Short QQQ (SQQQ) is -0.07 at $13.86, with 2,371,263 shares traded., following a 52-week high recorded in prior regular session.\\nLuhn_summary: Apple Inc. (AAPL) is +0.86 at $196.75, with 1,018,616 shares traded. As reported by Zacks, the current mean recommendation for AAPL is in the \"buy range\". ProShares UltraPro Short QQQ (SQQQ) is -0.07 at $13.86, with 2,371,263 shares traded., following a 52-week high recorded in prior regular session.\\nTextrank_summary: Apple Inc. (AAPL) is +0.86 at $196.75, with 1,018,616 shares traded. As reported by Zacks, the current mean recommendation for AAPL is in the \"buy range\". The total Pre-Market volume is currently 34,708,820 shares traded.\\nLexrank_summary: Apple Inc. (AAPL) is +0.86 at $196.75, with 1,018,616 shares traded. As reported by Zacks, the current mean recommendation for AAPL is in the \"buy range\". The following are the most active stocks for the pre-market session:'), Document(metadata={'source': 'C:/Users/peggy/Documents/Fabeon/deep_learning/AAPL.csv', 'row': 5}, page_content='Date: 2023-12-16 20:00:00 UTC\\nArticle_title: 3 Artificial Intelligence (AI) Stocks for 2024 (and Beyond)\\nStock_symbol: AAPL\\nUrl: https://www.nasdaq.com/articles/3-artificial-intelligence-ai-stocks-for-2024-and-beyond\\nPublisher: \\nAuthor: \\nArticle: What was the top financial story of 2023? It has to be Artificial Intelligence (AI), right?\\nNo other subject dominated the headlines quite like AI. Whether it was ChatGPT, viral AI-generated images, or the failed ouster of Sam Altman at OpenAI, it seems AI keeps pumping out big stories, one after the other.\\nSo, with 2024 right around the corner, here are three AI stocks worth owning in 2024 -- and beyond.\\nImage source: Getty Images.\\nAI analysis can help companies optimize their operations\\nJake Lerch (Palantir Technologies): With the stock up 178% year to date, 2023 has been an incredible year for Palantir Technologies (NYSE: PLTR) and its shareholders. There are, however, signs that 2024 (and beyond) could be even better.\\nPalantir operates AI-based analytics systems for governmental and commercial uses and is on the leading edge of translating AI innovation into shareholder returns. Consider Palantir\\'s recent announcement that it is extending its long-standing partnership with UniCredit S.p.A., a major European bank.\\nIn its press release , Palantir noted that its signature Foundry operating system delivered material results for UniCredit. For example, in 2023, \"advanced analytics and propensity models in Foundry helped [UniCredit] generate a four-fold increase in customer redemption of protection products through better targeting.\"\\nIndeed, UniCredit is just one of many customers that is desperate to ramp up its use of AI to streamline its operations. In a Dec. 7, 2023 interview with Fox Business, Palantir co-founder and CEO Alex Karp said, \"We just can\\'t keep up with our product demand...We are just breaking at the seams in the U.S.\"\\nThe numbers certainly back that statement up. In its most recent quarter (the three months ending on Sept. 30, 2023), Palantir grew revenue by 17% year over year. Trailing-12-month revenue hit $2.1 billion, gross profit swelled to $1.7 billion, and free cash flow increased to $474 million.\\nPLTR Revenue (TTM) data by YCharts\\nNevertheless, Palantir stock isn\\'t for everyone. Since the company is still early in its lifecycle, its stock will be volatile. Indeed, shares plummeted more than 84% from their all-time high between January 2021 and January 2023.\\nStill, for long-term, growth-oriented investors, Palantir is a name worth considering, given the soaring demand for its products and its improving fundamentals.\\nAI isn\\'t just about what you see; it\\'s about what you say and hear\\nJustin Pope (SoundHound AI): Much of the hype around AI has focused on large language models like ChatGPT, but there are other ways to use AI that investors may not be fully aware of. SoundHound AI (NASDAQ: SOUN) develops conversational AI, taking an audio input, such as someone voicing a question and responding with dialogue or action.\\nConversational AI has a lot of existing and potential use cases. SoundHound AI is used in restaurant and hospitality industries to take orders or make reservations. It\\'s in vehicles, smart devices, and appliances for voice assistance. In the future, the technology could find its way into healthcare, customer service, and more. SoundHound AI estimates a long-term potential addressable market of $160 billion.\\nAs a company, SoundHound AI is just getting started. It\\'s only done $38 million in revenue over the past 12 months, but analysts believe it will grow significantly. Estimates call for 50% revenue growth over the next two years. The company also recently announced an acquisition of SYNQ3 Restaurant Solutions, giving SoundHound access to a potential restaurant pipeline of 100,000 locations.\\nSoundHound AI is a risky stock because the business is so nascent. It\\'s burning cash every quarter, and there is only a year or so of cash on the balance sheet at this rate. Investors shouldn\\'t be shocked if the company issues new stock to raise funds. Conversely, the stock\\'s market cap is just $480 million. Investors could eventually be handsomely rewarded if SoundHound AI can become a leader in this massive (but underrated) niche within AI.\\nIt\\'s way too early to count out this \"AI-first\" company\\nWill Healy (Alphabet): The narrative in the AI space seems to have turned away from Google parent Alphabet (NASDAQ: GOOGL) (NASDAQ: GOOG).\\nIndeed, the rise of OpenAI\\'s ChatGPT seemed to catch Alphabet off guard, particularly as rival Microsoft (NASDAQ: MSFT) forged an alliance with the research and development company. This gave users a reason to start using Microsoft\\'s search engine, Bing, and some began questioning the dominance of the Google search engine for the first time in several years.\\nHowever, Alphabet has responded with its own generative AI tool called Bard. While the tools offer similar results, Bard was first in producing more up-to-date results as it leverages Google\\'s search engine.\\nMoreover, the company has a long history with AI. Alphabet first used AI to correct spelling as early as 2001. The tools advanced from that point, so much so that Alphabet declared itself an \"AI first\" company in 2016.\\nFurthermore, investors should remember that Alphabet owns numerous companies, some of which could drive AI innovation. Earlier this year, it combined two of its AI companies into Google DeepMind. This subsidiary is a group of scientists, engineers, and others researching AI.\\nAlso, with the funding backing Google DeepMind, the company has a high probability of driving innovation. Alphabet claims almost $120 billion in liquidity, and it generated nearly $32 billion in free cash flow in the first nine months of 2023. This gives the company tremendous resources to develop AI-related products and the ability to purchase the innovation it cannot create.\\nSuch optionality gives investors fewer reasons to doubt Alphabet, and one has to wonder whether the sentiment against the Google parent was overblown. Despite the concerns of some, the stock has risen by more than 40% over the last 12 months.\\nGOOGL PE Ratio data by YCharts\\nAdditionally, the increase has taken its P/E ratio to 26. While not inexpensive, its P/E is lower than those of Amazon (NASDAQ: AMZN), Apple (NASDAQ: AAPL), and Microsoft. That lower valuation could be an opportunity to buy this stock as it uses its AI knowledge base and vast resources to remain a force in the artificial intelligence industry.\\nShould you invest $1,000 in Alphabet right now?\\nBefore you buy stock in Alphabet, consider this:\\nThe Motley Fool Stock Advisor analyst team just identified what they believe are the 10 best stocks for investors to buy now... and Alphabet wasn\\'t one of them. The 10 stocks that made the cut could produce monster returns in the coming years.\\nStock Advisor provides investors with an easy-to-follow blueprint for success, including guidance on building a portfolio, regular updates from analysts, and two new stock picks each month. The Stock Advisor service has more than tripled the return of S&P 500 since 2002*.\\nSee the 10 stocks\\n*Stock Advisor returns as of December 11, 2023\\nSuzanne Frey, an executive at Alphabet, is a member of The Motley Fool’s board of directors. John Mackey, former CEO of Whole Foods Market, an Amazon subsidiary, is a member of The Motley Fool’s board of directors. Jake Lerch has positions in Alphabet and Amazon. Justin Pope has no position in any of the stocks mentioned. Will Healy has positions in Palantir Technologies. The Motley Fool has positions in and recommends Alphabet, Amazon, Apple, Microsoft, and Palantir Technologies. The Motley Fool has a disclosure policy.\\nThe views and opinions expressed herein are the views and opinions of the author and do not necessarily reflect those of Nasdaq, Inc.\\nLsa_summary: While not inexpensive, its P/E is lower than those of Amazon (NASDAQ: AMZN), Apple (NASDAQ: AAPL), and Microsoft. For example, in 2023, \"advanced analytics and propensity models in Foundry helped [UniCredit] generate a four-fold increase in customer redemption of protection products through better targeting.\" In a Dec. 7, 2023 interview with Fox Business, Palantir co-founder and CEO Alex Karp said, \"We just can\\'t keep up with our product demand...We are just breaking at the seams in the U.S.\" The numbers certainly back that statement up.\\nLuhn_summary: While not inexpensive, its P/E is lower than those of Amazon (NASDAQ: AMZN), Apple (NASDAQ: AAPL), and Microsoft. It\\'s way too early to count out this \"AI-first\" company Will Healy (Alphabet): The narrative in the AI space seems to have turned away from Google parent Alphabet (NASDAQ: GOOGL) (NASDAQ: GOOG). However, Alphabet has responded with its own generative AI tool called Bard.\\nTextrank_summary: While not inexpensive, its P/E is lower than those of Amazon (NASDAQ: AMZN), Apple (NASDAQ: AAPL), and Microsoft. AI analysis can help companies optimize their operations Jake Lerch (Palantir Technologies): With the stock up 178% year to date, 2023 has been an incredible year for Palantir Technologies (NYSE: PLTR) and its shareholders. AI isn\\'t just about what you see; it\\'s about what you say and hear Justin Pope (SoundHound AI): Much of the hype around AI has focused on large language models like ChatGPT, but there are other ways to use AI that investors may not be fully aware of.\\nLexrank_summary: While not inexpensive, its P/E is lower than those of Amazon (NASDAQ: AMZN), Apple (NASDAQ: AAPL), and Microsoft. As a company, SoundHound AI is just getting started. It\\'s way too early to count out this \"AI-first\" company Will Healy (Alphabet): The narrative in the AI space seems to have turned away from Google parent Alphabet (NASDAQ: GOOGL) (NASDAQ: GOOG).'), Document(metadata={'source': 'C:/Users/peggy/Documents/Fabeon/deep_learning/AAPL.csv', 'row': 6}, page_content='Date: 2023-12-16 20:00:00 UTC\\nArticle_title: AAPL Quantitative Stock Analysis\\nStock_symbol: AAPL\\nUrl: https://www.nasdaq.com/articles/aapl-quantitative-stock-analysis-10\\nPublisher: \\nAuthor: \\nArticle: Below is Validea\\'s guru fundamental report for APPLE INC (AAPL). Of the 22 guru strategies we follow, AAPL rates highest using our Twin Momentum Investor model based on the published strategy of Dashan Huang. This momentum model looks for a combination of fundamental momentum and price momentum.\\nAPPLE INC (AAPL) is a large-cap growth stock in the Communications Equipment industry. The rating using this strategy is 100% based on the firm’s underlying fundamentals and the stock’s valuation. A score of 80% or above typically indicates that the strategy has some interest in the stock and a score above 90% typically indicates strong interest.\\nThe following table summarizes whether the stock meets each of this strategy\\'s tests. Not all criteria in the below table receive equal weighting or are independent, but the table provides a brief overview of the strong and weak points of the security in the context of the strategy\\'s criteria.\\nFUNDAMENTAL MOMENTUM: PASS\\nTWELVE MINUS ONE MOMENTUM: PASS\\nFINAL RANK: PASS\\n\\nDetailed Analysis of APPLE INC\\nAAPL Guru Analysis\\nAAPL Fundamental Analysis\\nMore Information on Dashan Huang\\nDashan Huang Portfolio\\nAbout Dashan Huang: Dashan Huang is an Assistant Professor of Finance at the Lee Kong Chian School of Business at Singapore Management University. His paper \"Twin Momentum\" looked at combining traditional price momentum with improving fundamentals to generate market outperformance. In the paper, he identified seven fundamental variables (earnings, return on equity, return on assets, accrual operating profitability to equity, cash operating profitability to assets, gross profit to assets and net payout ratio) that he combined into a single fundamental momentum measure. He showed that stocks in the top 20% of the universe according to that measure outperformed the market going forward. When he combined that measure with price momentum, he was able to double its outperformance.\\nAdditional Research Links\\nTop NASDAQ 100 Stocks\\nTop Technology Stocks\\nTop Large-Cap Growth Stocks\\nHigh Momentum Stocks\\nHigh Insider Ownership Stocks\\nAbout Validea: Validea is aninvestment researchservice that follows the published strategies of investment legends. Validea offers both stock analysis and model portfolios based on gurus who have outperformed the market over the long-term, including Warren Buffett, Benjamin Graham, Peter Lynch and Martin Zweig. For more information about Validea, click here\\nThe views and opinions expressed herein are the views and opinions of the author and do not necessarily reflect those of Nasdaq, Inc.\\nLsa_summary: APPLE INC (AAPL) is a large-cap growth stock in the Communications Equipment industry. Below is Validea\\'s guru fundamental report for APPLE INC (AAPL). Of the 22 guru strategies we follow, AAPL rates highest using our Twin Momentum Investor model based on the published strategy of Dashan Huang.\\nLuhn_summary: Detailed Analysis of APPLE INC AAPL Guru Analysis AAPL Fundamental Analysis More Information on Dashan Huang Dashan Huang Portfolio About Dashan Huang: Dashan Huang is an Assistant Professor of Finance at the Lee Kong Chian School of Business at Singapore Management University. Below is Validea\\'s guru fundamental report for APPLE INC (AAPL). Of the 22 guru strategies we follow, AAPL rates highest using our Twin Momentum Investor model based on the published strategy of Dashan Huang.\\nTextrank_summary: Detailed Analysis of APPLE INC AAPL Guru Analysis AAPL Fundamental Analysis More Information on Dashan Huang Dashan Huang Portfolio About Dashan Huang: Dashan Huang is an Assistant Professor of Finance at the Lee Kong Chian School of Business at Singapore Management University. Below is Validea\\'s guru fundamental report for APPLE INC (AAPL). Of the 22 guru strategies we follow, AAPL rates highest using our Twin Momentum Investor model based on the published strategy of Dashan Huang.\\nLexrank_summary: Of the 22 guru strategies we follow, AAPL rates highest using our Twin Momentum Investor model based on the published strategy of Dashan Huang. Below is Validea\\'s guru fundamental report for APPLE INC (AAPL). APPLE INC (AAPL) is a large-cap growth stock in the Communications Equipment industry.'), Document(metadata={'source': 'C:/Users/peggy/Documents/Fabeon/deep_learning/AAPL.csv', 'row': 7}, page_content=\"Date: 2023-12-16 18:00:00 UTC\\nArticle_title: Should Vanguard S&P 500 ETF (VOO) Be on Your Investing Radar?\\nStock_symbol: AAPL\\nUrl: https://www.nasdaq.com/articles/should-vanguard-sp-500-etf-voo-be-on-your-investing-radar-11\\nPublisher: \\nAuthor: \\nArticle: If you're interested in broad exposure to the Large Cap Blend segment of the US equity market, look no further than the Vanguard S&P 500 ETF (VOO), a passively managed exchange traded fund launched on 09/09/2010.\\nThe fund is sponsored by Vanguard. It has amassed assets over $368.80 billion, making it one of the largest ETFs attempting to match the Large Cap Blend segment of the US equity market.\\nWhy Large Cap Blend\\nLarge cap companies typically have a market capitalization above $10 billion. They tend to be stable companies with predictable cash flows and are usually less volatile than mid and small cap companies.\\nBlend ETFs are aptly named, since they tend to hold a mix of growth and value stocks, as well as show characteristics of both kinds of equities.\\nCosts\\nInvestors should also pay attention to an ETF's expense ratio. Lower cost products will produce better results than those with a higher cost, assuming all other metrics remain the same.\\nAnnual operating expenses for this ETF are 0.03%, making it one of the least expensive products in the space.\\nIt has a 12-month trailing dividend yield of 1.43%.\\nSector Exposure and Top Holdings\\nEven though ETFs offer diversified exposure that minimizes single stock risk, investors should also look at the actual holdings inside the fund. Luckily, most ETFs are very transparent products that disclose their holdings on a daily basis.\\nThis ETF has heaviest allocation to the Information Technology sector--about 29.40% of the portfolio. Financials and Healthcare round out the top three.\\nLooking at individual holdings, Apple Inc. (AAPL) accounts for about 7.53% of total assets, followed by Microsoft Corp. (MSFT) and Amazon.com Inc. (AMZN).\\nThe top 10 holdings account for about 30.44% of total assets under management.\\nPerformance and Risk\\nVOO seeks to match the performance of the S&P 500 Index before fees and expenses. The S&P 500 Index measures the performance of the large-capitalization sector of the U.S. equity market.\\nThe ETF has added about 25.26% so far this year and it's up approximately 24.84% in the last one year (as of 12/19/2023). In the past 52-week period, it has traded between $346.17 and $435.54.\\nThe ETF has a beta of 1 and standard deviation of 17.49% for the trailing three-year period, making it a medium risk choice in the space. With about 507 holdings, it effectively diversifies company-specific risk.\\nAlternatives\\nVanguard S&P 500 ETF holds a Zacks ETF Rank of 2 (Buy), which is based on expected asset class return, expense ratio, and momentum, among other factors. Because of this, VOO is an outstanding option for investors seeking exposure to the Style Box - Large Cap Blend segment of the market. There are other additional ETFs in the space that investors could consider as well.\\nThe iShares Core S&P 500 ETF (IVV) and the SPDR S&P 500 ETF (SPY) track the same index. While iShares Core S&P 500 ETF has $397.71 billion in assets, SPDR S&P 500 ETF has $456.74 billion. IVV has an expense ratio of 0.03% and SPY charges 0.09%.\\nBottom-Line\\nWhile an excellent vehicle for long term investors, passively managed ETFs are a popular choice among institutional and retail investors due to their low costs, transparency, flexibility, and tax efficiency.\\nTo learn more about this product and other ETFs, screen for products that match your investment objectives and read articles on latest developments in the ETF investing universe, please visit Zacks ETF Center.\\nWant key ETF info delivered straight to your inbox?\\nZacks’ free Fund Newsletter will brief you on top news and analysis, as well as top-performing ETFs, each week.\\nGet it free >>\\nWant the latest recommendations from Zacks Investment Research? Today, you can download 7 Best Stocks for the Next 30 Days. Click to get this free report\\nVanguard S&P 500 ETF (VOO): ETF Research Reports\\nAmazon.com, Inc. (AMZN) : Free Stock Analysis Report\\nApple Inc. (AAPL) : Free Stock Analysis Report\\nMicrosoft Corporation (MSFT) : Free Stock Analysis Report\\nSPDR S&P 500 ETF (SPY): ETF Research Reports\\niShares Core S&P 500 ETF (IVV): ETF Research Reports\\nTo read this article on Zacks.com click here.\\nZacks Investment Research\\nThe views and opinions expressed herein are the views and opinions of the author and do not necessarily reflect those of Nasdaq, Inc.\\nLsa_summary: Looking at individual holdings, Apple Inc. (AAPL) accounts for about 7.53% of total assets, followed by Microsoft Corp. (MSFT) and Amazon.com Inc. (AMZN). Click to get this free report Vanguard S&P 500 ETF (VOO): ETF Research Reports Amazon.com, Inc. (AMZN) : Free Stock Analysis Report Apple Inc. (AAPL) : Free Stock Analysis Report Microsoft Corporation (MSFT) : Free Stock Analysis Report SPDR S&P 500 ETF (SPY): ETF Research Reports iShares Core S&P 500 ETF (IVV): ETF Research Reports To read this article on Zacks.com click here. If you're interested in broad exposure to the Large Cap Blend segment of the US equity market, look no further than the Vanguard S&P 500 ETF (VOO), a passively managed exchange traded fund launched on 09/09/2010.\\nLuhn_summary: Looking at individual holdings, Apple Inc. (AAPL) accounts for about 7.53% of total assets, followed by Microsoft Corp. (MSFT) and Amazon.com Inc. (AMZN). Click to get this free report Vanguard S&P 500 ETF (VOO): ETF Research Reports Amazon.com, Inc. (AMZN) : Free Stock Analysis Report Apple Inc. (AAPL) : Free Stock Analysis Report Microsoft Corporation (MSFT) : Free Stock Analysis Report SPDR S&P 500 ETF (SPY): ETF Research Reports iShares Core S&P 500 ETF (IVV): ETF Research Reports To read this article on Zacks.com click here. Sector Exposure and Top Holdings Even though ETFs offer diversified exposure that minimizes single stock risk, investors should also look at the actual holdings inside the fund.\\nTextrank_summary: Click to get this free report Vanguard S&P 500 ETF (VOO): ETF Research Reports Amazon.com, Inc. (AMZN) : Free Stock Analysis Report Apple Inc. (AAPL) : Free Stock Analysis Report Microsoft Corporation (MSFT) : Free Stock Analysis Report SPDR S&P 500 ETF (SPY): ETF Research Reports iShares Core S&P 500 ETF (IVV): ETF Research Reports To read this article on Zacks.com click here. Looking at individual holdings, Apple Inc. (AAPL) accounts for about 7.53% of total assets, followed by Microsoft Corp. (MSFT) and Amazon.com Inc. (AMZN). Alternatives Vanguard S&P 500 ETF holds a Zacks ETF Rank of 2 (Buy), which is based on expected asset class return, expense ratio, and momentum, among other factors.\\nLexrank_summary: Looking at individual holdings, Apple Inc. (AAPL) accounts for about 7.53% of total assets, followed by Microsoft Corp. (MSFT) and Amazon.com Inc. (AMZN). Click to get this free report Vanguard S&P 500 ETF (VOO): ETF Research Reports Amazon.com, Inc. (AMZN) : Free Stock Analysis Report Apple Inc. (AAPL) : Free Stock Analysis Report Microsoft Corporation (MSFT) : Free Stock Analysis Report SPDR S&P 500 ETF (SPY): ETF Research Reports iShares Core S&P 500 ETF (IVV): ETF Research Reports To read this article on Zacks.com click here. If you're interested in broad exposure to the Large Cap Blend segment of the US equity market, look no further than the Vanguard S&P 500 ETF (VOO), a passively managed exchange traded fund launched on 09/09/2010.\"), Document(metadata={'source': 'C:/Users/peggy/Documents/Fabeon/deep_learning/AAPL.csv', 'row': 8}, page_content=\"Date: 2023-12-16 18:00:00 UTC\\nArticle_title: Is FlexShares Quality Dividend ETF (QDF) a Strong ETF Right Now?\\nStock_symbol: AAPL\\nUrl: https://www.nasdaq.com/articles/is-flexshares-quality-dividend-etf-qdf-a-strong-etf-right-now-0\\nPublisher: \\nAuthor: \\nArticle: Launched on 12/14/2012, the FlexShares Quality Dividend ETF (QDF) is a smart beta exchange traded fund offering broad exposure to the Style Box - All Cap Blend category of the market.\\nWhat Are Smart Beta ETFs?\\nProducts that are based on market cap weighted indexes, which are strategies designed to reflect a specific market segment or the market as a whole, have traditionally dominated the ETF industry.\\nA good option for investors who believe in market efficiency, market cap weighted indexes offer a low-cost, convenient, and transparent way of replicating market returns.\\nBut, there are some investors who would rather invest in smart beta funds; these funds track non-cap weighted strategies, and are a strong option for those who prefer choosing great stocks in order to beat the market.\\nThese indexes attempt to select stocks that have better chances of risk-return performance, based on certain fundamental characteristics or a combination of such characteristics.\\nThis area offers many different investment choices, such as simplest equal-weighting, fundamental weighting and volatility/momentum based weighting methodologies; however, not all of these strategies can deliver superior results.\\nFund Sponsor & Index\\nThe fund is sponsored by Flexshares. It has amassed assets over $1.66 billion, making it one of the larger ETFs in the Style Box - All Cap Blend. QDF seeks to match the performance of the Northern Trust Quality Dividend Index before fees and expenses.\\nThe Northern Trust Quality Dividend Index is designed to provide exposure to a high-quality income-oriented portfolio of long-only U.S. equity securities, with an emphasis on long-term capital growth and a targeted overall beta that is similar to that of the Northern Trust 1250 Index and the Index are selected based on expected dividend payment and fundamental factors.\\nCost & Other Expenses\\nExpense ratios are an important factor in the return of an ETF and in the long-term, cheaper funds can significantly outperform their more expensive cousins, other things remaining the same.\\nAnnual operating expenses for QDF are 0.37%, which makes it on par with most peer products in the space.\\nQDF's 12-month trailing dividend yield is 2.19%.\\nSector Exposure and Top Holdings\\nMost ETFs are very transparent products, and disclose their holdings on a daily basis. ETFs also offer diversified exposure, which minimizes single stock risk, though it's still important for investors to research a fund's holdings.\\nFor QDF, it has heaviest allocation in the Information Technology sector --about 31.40% of the portfolio --while Financials and Healthcare round out the top three.\\nLooking at individual holdings, Apple Inc (AAPL) accounts for about 9.45% of total assets, followed by Microsoft Corp Common Stock Usd 0.00000625 (MSFT) and Procter &no.38; Gamble Co/the Common Stock Usd 0 (PG).\\nIts top 10 holdings account for approximately 34.12% of QDF's total assets under management.\\nPerformance and Risk\\nThe ETF return is roughly 19.10% so far this year and is up about 20.04% in the last one year (as of 12/19/2023). In the past 52-week period, it has traded between $51.86 and $61.93.\\nThe fund has a beta of 0.98 and standard deviation of 16.04% for the trailing three-year period, which makes QDF a medium risk choice in this particular space. With about 143 holdings, it effectively diversifies company-specific risk.\\nAlternatives\\nFlexShares Quality Dividend ETF is a reasonable option for investors seeking to outperform the Style Box - All Cap Blend segment of the market. However, there are other ETFs in the space which investors could consider.\\nIShares Core S&P Total U.S. Stock Market ETF (ITOT) tracks S&P Total Market Index and the Vanguard Total Stock Market ETF (VTI) tracks CRSP US Total Market Index. IShares Core S&P Total U.S. Stock Market ETF has $48.85 billion in assets, Vanguard Total Stock Market ETF has $344.19 billion. ITOT has an expense ratio of 0.03% and VTI charges 0.03%.\\nInvestors looking for cheaper and lower-risk options should consider traditional market cap weighted ETFs that aim to match the returns of the Style Box - All Cap Blend.\\nBottom Line\\nTo learn more about this product and other ETFs, screen for products that match your investment objectives and read articles on latest developments in the ETF investing universe, please visit Zacks ETF Center.\\nWant key ETF info delivered straight to your inbox?\\nZacks’ free Fund Newsletter will brief you on top news and analysis, as well as top-performing ETFs, each week.\\nGet it free >>\\nWant the latest recommendations from Zacks Investment Research? Today, you can download 7 Best Stocks for the Next 30 Days. Click to get this free report\\nFlexShares Quality Dividend ETF (QDF): ETF Research Reports\\nApple Inc. (AAPL) : Free Stock Analysis Report\\nMicrosoft Corporation (MSFT) : Free Stock Analysis Report\\nProcter & Gamble Company (The) (PG) : Free Stock Analysis Report\\nVanguard Total Stock Market ETF (VTI): ETF Research Reports\\niShares Core S&P Total U.S. Stock Market ETF (ITOT): ETF Research Reports\\nTo read this article on Zacks.com click here.\\nZacks Investment Research\\nThe views and opinions expressed herein are the views and opinions of the author and do not necessarily reflect those of Nasdaq, Inc.\\nLsa_summary: Looking at individual holdings, Apple Inc (AAPL) accounts for about 9.45% of total assets, followed by Microsoft Corp Common Stock Usd 0.00000625 (MSFT) and Procter &no.38; Gamble Co/the Common Stock Usd 0 (PG). Click to get this free report FlexShares Quality Dividend ETF (QDF): ETF Research Reports Apple Inc. (AAPL) : Free Stock Analysis Report Microsoft Corporation (MSFT) : Free Stock Analysis Report Procter & Gamble Company (The) (PG) : Free Stock Analysis Report Vanguard Total Stock Market ETF (VTI): ETF Research Reports iShares Core S&P Total U.S. Stock Market ETF (ITOT): ETF Research Reports To read this article on Zacks.com click here. Launched on 12/14/2012, the FlexShares Quality Dividend ETF (QDF) is a smart beta exchange traded fund offering broad exposure to the Style Box - All Cap Blend category of the market.\\nLuhn_summary: Looking at individual holdings, Apple Inc (AAPL) accounts for about 9.45% of total assets, followed by Microsoft Corp Common Stock Usd 0.00000625 (MSFT) and Procter &no.38; Gamble Co/the Common Stock Usd 0 (PG). Click to get this free report FlexShares Quality Dividend ETF (QDF): ETF Research Reports Apple Inc. (AAPL) : Free Stock Analysis Report Microsoft Corporation (MSFT) : Free Stock Analysis Report Procter & Gamble Company (The) (PG) : Free Stock Analysis Report Vanguard Total Stock Market ETF (VTI): ETF Research Reports iShares Core S&P Total U.S. Stock Market ETF (ITOT): ETF Research Reports To read this article on Zacks.com click here. IShares Core S&P Total U.S. Stock Market ETF (ITOT) tracks S&P Total Market Index and the Vanguard Total Stock Market ETF (VTI) tracks CRSP US Total Market Index.\\nTextrank_summary: Click to get this free report FlexShares Quality Dividend ETF (QDF): ETF Research Reports Apple Inc. (AAPL) : Free Stock Analysis Report Microsoft Corporation (MSFT) : Free Stock Analysis Report Procter & Gamble Company (The) (PG) : Free Stock Analysis Report Vanguard Total Stock Market ETF (VTI): ETF Research Reports iShares Core S&P Total U.S. Stock Market ETF (ITOT): ETF Research Reports To read this article on Zacks.com click here. Looking at individual holdings, Apple Inc (AAPL) accounts for about 9.45% of total assets, followed by Microsoft Corp Common Stock Usd 0.00000625 (MSFT) and Procter &no.38; Gamble Co/the Common Stock Usd 0 (PG). IShares Core S&P Total U.S. Stock Market ETF (ITOT) tracks S&P Total Market Index and the Vanguard Total Stock Market ETF (VTI) tracks CRSP US Total Market Index.\\nLexrank_summary: Looking at individual holdings, Apple Inc (AAPL) accounts for about 9.45% of total assets, followed by Microsoft Corp Common Stock Usd 0.00000625 (MSFT) and Procter &no.38; Gamble Co/the Common Stock Usd 0 (PG). Click to get this free report FlexShares Quality Dividend ETF (QDF): ETF Research Reports Apple Inc. (AAPL) : Free Stock Analysis Report Microsoft Corporation (MSFT) : Free Stock Analysis Report Procter & Gamble Company (The) (PG) : Free Stock Analysis Report Vanguard Total Stock Market ETF (VTI): ETF Research Reports iShares Core S&P Total U.S. Stock Market ETF (ITOT): ETF Research Reports To read this article on Zacks.com click here. Launched on 12/14/2012, the FlexShares Quality Dividend ETF (QDF) is a smart beta exchange traded fund offering broad exposure to the Style Box - All Cap Blend category of the market.\"), Document(metadata={'source': 'C:/Users/peggy/Documents/Fabeon/deep_learning/AAPL.csv', 'row': 9}, page_content=\"Date: 2023-12-16 18:00:00 UTC\\nArticle_title: Is FlexShares STOXX US ESG Select Index Fund (ESG) a Strong ETF Right Now?\\nStock_symbol: AAPL\\nUrl: https://www.nasdaq.com/articles/is-flexshares-stoxx-us-esg-select-index-fund-esg-a-strong-etf-right-now-0\\nPublisher: \\nAuthor: \\nArticle: Making its debut on 07/13/2016, smart beta exchange traded fund FlexShares STOXX US ESG Select Index Fund (ESG) provides investors broad exposure to the Style Box - Large Cap Blend category of the market.\\nWhat Are Smart Beta ETFs?\\nThe ETF industry has traditionally been dominated by products based on market capitalization weighted indexes that are designed to represent the market or a particular segment of the market.\\nA good option for investors who believe in market efficiency, market cap weighted indexes offer a low-cost, convenient, and transparent way of replicating market returns.\\nIf you're the kind of investor who would rather try and beat the market through good stock selection, then smart beta funds are your best choice; this fund class is known for tracking non-cap weighted strategies.\\nNon-cap weighted indexes try to choose stocks that have a better chance of risk-return performance, which is based on specific fundamental characteristics, or a mix of other such characteristics.\\nEven though this space provides many choices to investors--think one of the simplest methodologies like equal-weighting and more complicated ones like fundamental and volatility/momentum based weighting--not all have been able to deliver first-rate results.\\nFund Sponsor & Index\\nBecause the fund has amassed over $204.22 million, this makes it one of the average sized ETFs in the Style Box - Large Cap Blend. ESG is managed by Flexshares. Before fees and expenses, this particular fund seeks to match the performance of the STOXX USA ESG Impact Index.\\nThe STOXX USA ESG Select KPIs Index is an optimized index designed to provide broad market exposure that is tilted toward U.S. companies that score better with respect to a small set of environmental, social and governance characteristics and to provide the potential for attractive risk-adjusted performance relative to the STOXX USA 900 Index.\\nCost & Other Expenses\\nInvestors should also pay attention to an ETF's expense ratio. Lower cost products will produce better results than those with a higher cost, assuming all other metrics remain the same.\\nWith on par with most peer products in the space, this ETF has annual operating expenses of 0.32%.\\nThe fund has a 12-month trailing dividend yield of 1.11%.\\nSector Exposure and Top Holdings\\nEven though ETFs offer diversified exposure which minimizes single stock risk, it is still important to look into a fund's holdings before investing. Luckily, most ETFs are very transparent products that disclose their holdings on a daily basis.\\nThis ETF has heaviest allocation in the Information Technology sector - about 25.80% of the portfolio. Financials and Consumer Discretionary round out the top three.\\nTaking into account individual holdings, Amazon.com Inc Common Stock Usd 0.01 (AMZN) accounts for about 5.14% of the fund's total assets, followed by Apple Inc (AAPL) and Microsoft Corp Common Stock Usd 0.00000625 (MSFT).\\nESG's top 10 holdings account for about 34.71% of its total assets under management.\\nPerformance and Risk\\nThe ETF return is roughly 26.91% so far this year and is up about 26.91% in the last one year (as of 12/19/2023). In the past 52-week period, it has traded between $90.43 and $115.26.\\nThe fund has a beta of 1.03 and standard deviation of 17.87% for the trailing three-year period. With about 266 holdings, it effectively diversifies company-specific risk.\\nAlternatives\\nFlexShares STOXX US ESG Select Index Fund is a reasonable option for investors seeking to outperform the Style Box - Large Cap Blend segment of the market. However, there are other ETFs in the space which investors could consider.\\nJPMorgan Nasdaq Equity Premium Income ETF (JEPQ) tracks ---------------------------------------- and the iShares ESG Aware MSCI USA ETF (ESGU) tracks MSCI USA ESG Focus Index. JPMorgan Nasdaq Equity Premium Income ETF has $8.40 billion in assets, iShares ESG Aware MSCI USA ETF has $13.32 billion. JEPQ has an expense ratio of 0.35% and ESGU charges 0.15%.\\nInvestors looking for cheaper and lower-risk options should consider traditional market cap weighted ETFs that aim to match the returns of the Style Box - Large Cap Blend.\\nBottom Line\\nTo learn more about this product and other ETFs, screen for products that match your investment objectives and read articles on latest developments in the ETF investing universe, please visit Zacks ETF Center.\\nWant key ETF info delivered straight to your inbox?\\nZacks’ free Fund Newsletter will brief you on top news and analysis, as well as top-performing ETFs, each week.\\nGet it free >>\\nWant the latest recommendations from Zacks Investment Research? Today, you can download 7 Best Stocks for the Next 30 Days. Click to get this free report\\nFlexShares STOXX US ESG Select Index Fund (ESG): ETF Research Reports\\nAmazon.com, Inc. (AMZN) : Free Stock Analysis Report\\nApple Inc. (AAPL) : Free Stock Analysis Report\\nMicrosoft Corporation (MSFT) : Free Stock Analysis Report\\niShares ESG Aware MSCI USA ETF (ESGU): ETF Research Reports\\nJPMorgan Nasdaq Equity Premium Income ETF (JEPQ): ETF Research Reports\\nTo read this article on Zacks.com click here.\\nZacks Investment Research\\nThe views and opinions expressed herein are the views and opinions of the author and do not necessarily reflect those of Nasdaq, Inc.\\nLsa_summary: Taking into account individual holdings, Amazon.com Inc Common Stock Usd 0.01 (AMZN) accounts for about 5.14% of the fund's total assets, followed by Apple Inc (AAPL) and Microsoft Corp Common Stock Usd 0.00000625 (MSFT). Click to get this free report FlexShares STOXX US ESG Select Index Fund (ESG): ETF Research Reports Amazon.com, Inc. (AMZN) : Free Stock Analysis Report Apple Inc. (AAPL) : Free Stock Analysis Report Microsoft Corporation (MSFT) : Free Stock Analysis Report iShares ESG Aware MSCI USA ETF (ESGU): ETF Research Reports JPMorgan Nasdaq Equity Premium Income ETF (JEPQ): ETF Research Reports To read this article on Zacks.com click here. Even though this space provides many choices to investors--think one of the simplest methodologies like equal-weighting and more complicated ones like fundamental and volatility/momentum based weighting--not all have been able to deliver first-rate results.\\nLuhn_summary: Click to get this free report FlexShares STOXX US ESG Select Index Fund (ESG): ETF Research Reports Amazon.com, Inc. (AMZN) : Free Stock Analysis Report Apple Inc. (AAPL) : Free Stock Analysis Report Microsoft Corporation (MSFT) : Free Stock Analysis Report iShares ESG Aware MSCI USA ETF (ESGU): ETF Research Reports JPMorgan Nasdaq Equity Premium Income ETF (JEPQ): ETF Research Reports To read this article on Zacks.com click here. Taking into account individual holdings, Amazon.com Inc Common Stock Usd 0.01 (AMZN) accounts for about 5.14% of the fund's total assets, followed by Apple Inc (AAPL) and Microsoft Corp Common Stock Usd 0.00000625 (MSFT). Making its debut on 07/13/2016, smart beta exchange traded fund FlexShares STOXX US ESG Select Index Fund (ESG) provides investors broad exposure to the Style Box - Large Cap Blend category of the market.\\nTextrank_summary: Click to get this free report FlexShares STOXX US ESG Select Index Fund (ESG): ETF Research Reports Amazon.com, Inc. (AMZN) : Free Stock Analysis Report Apple Inc. (AAPL) : Free Stock Analysis Report Microsoft Corporation (MSFT) : Free Stock Analysis Report iShares ESG Aware MSCI USA ETF (ESGU): ETF Research Reports JPMorgan Nasdaq Equity Premium Income ETF (JEPQ): ETF Research Reports To read this article on Zacks.com click here. Taking into account individual holdings, Amazon.com Inc Common Stock Usd 0.01 (AMZN) accounts for about 5.14% of the fund's total assets, followed by Apple Inc (AAPL) and Microsoft Corp Common Stock Usd 0.00000625 (MSFT). Making its debut on 07/13/2016, smart beta exchange traded fund FlexShares STOXX US ESG Select Index Fund (ESG) provides investors broad exposure to the Style Box - Large Cap Blend category of the market.\\nLexrank_summary: Taking into account individual holdings, Amazon.com Inc Common Stock Usd 0.01 (AMZN) accounts for about 5.14% of the fund's total assets, followed by Apple Inc (AAPL) and Microsoft Corp Common Stock Usd 0.00000625 (MSFT). Click to get this free report FlexShares STOXX US ESG Select Index Fund (ESG): ETF Research Reports Amazon.com, Inc. (AMZN) : Free Stock Analysis Report Apple Inc. (AAPL) : Free Stock Analysis Report Microsoft Corporation (MSFT) : Free Stock Analysis Report iShares ESG Aware MSCI USA ETF (ESGU): ETF Research Reports JPMorgan Nasdaq Equity Premium Income ETF (JEPQ): ETF Research Reports To read this article on Zacks.com click here. Making its debut on 07/13/2016, smart beta exchange traded fund FlexShares STOXX US ESG Select Index Fund (ESG) provides investors broad exposure to the Style Box - Large Cap Blend category of the market.\")]\n"
     ]
    }
   ],
   "source": [
    "from langchain_community.document_loaders.csv_loader import CSVLoader\n",
    "\n",
    "loader = CSVLoader(file_path=\"C:/Users/peggy/Documents/Fabeon/deep_learning/AAPL.csv\", encoding = 'utf-8')\n",
    "\n",
    "data = loader.load()\n",
    "\n",
    "print(data[:10])"
   ]
  },
  {
   "cell_type": "code",
   "execution_count": 6,
   "id": "809dabaf-dbbf-41fa-a410-fc5208af333e",
   "metadata": {},
   "outputs": [
    {
     "data": {
      "text/html": [
       "<div>\n",
       "<style scoped>\n",
       "    .dataframe tbody tr th:only-of-type {\n",
       "        vertical-align: middle;\n",
       "    }\n",
       "\n",
       "    .dataframe tbody tr th {\n",
       "        vertical-align: top;\n",
       "    }\n",
       "\n",
       "    .dataframe thead th {\n",
       "        text-align: right;\n",
       "    }\n",
       "</style>\n",
       "<table border=\"1\" class=\"dataframe\">\n",
       "  <thead>\n",
       "    <tr style=\"text-align: right;\">\n",
       "      <th></th>\n",
       "      <th>Date</th>\n",
       "      <th>Article_title</th>\n",
       "      <th>Stock_symbol</th>\n",
       "      <th>Url</th>\n",
       "      <th>Publisher</th>\n",
       "      <th>Author</th>\n",
       "      <th>Article</th>\n",
       "      <th>Lsa_summary</th>\n",
       "      <th>Luhn_summary</th>\n",
       "      <th>Textrank_summary</th>\n",
       "      <th>Lexrank_summary</th>\n",
       "    </tr>\n",
       "  </thead>\n",
       "  <tbody>\n",
       "    <tr>\n",
       "      <th>0</th>\n",
       "      <td>2023-12-16 22:00:00 UTC</td>\n",
       "      <td>My 6 Largest Portfolio Holdings Heading Into 2...</td>\n",
       "      <td>AAPL</td>\n",
       "      <td>https://www.nasdaq.com/articles/my-6-largest-p...</td>\n",
       "      <td>NaN</td>\n",
       "      <td>NaN</td>\n",
       "      <td>After an absolute disaster of a year in 2022, ...</td>\n",
       "      <td>3: Apple There's little question that Apple (N...</td>\n",
       "      <td>3: Apple There's little question that Apple (N...</td>\n",
       "      <td>3: Apple There's little question that Apple (N...</td>\n",
       "      <td>3: Apple There's little question that Apple (N...</td>\n",
       "    </tr>\n",
       "    <tr>\n",
       "      <th>1</th>\n",
       "      <td>2023-12-16 22:00:00 UTC</td>\n",
       "      <td>Brokers Suggest Investing in Apple (AAPL): Rea...</td>\n",
       "      <td>AAPL</td>\n",
       "      <td>https://www.nasdaq.com/articles/brokers-sugges...</td>\n",
       "      <td>NaN</td>\n",
       "      <td>NaN</td>\n",
       "      <td>When deciding whether to buy, sell, or hold a ...</td>\n",
       "      <td>Let's take a look at what these Wall Street he...</td>\n",
       "      <td>Click to get this free report Apple Inc. (AAPL...</td>\n",
       "      <td>Let's take a look at what these Wall Street he...</td>\n",
       "      <td>Brokerage Recommendation Trends for AAPL Let's...</td>\n",
       "    </tr>\n",
       "    <tr>\n",
       "      <th>2</th>\n",
       "      <td>2023-12-16 21:00:00 UTC</td>\n",
       "      <td>Company News for Dec 19, 2023</td>\n",
       "      <td>AAPL</td>\n",
       "      <td>https://www.nasdaq.com/articles/company-news-f...</td>\n",
       "      <td>NaN</td>\n",
       "      <td>NaN</td>\n",
       "      <td>Shares of Apple Inc. AAPL lost 0.9% on China’s...</td>\n",
       "      <td>Shares of Apple Inc. AAPL lost 0.9% on China’s...</td>\n",
       "      <td>Click to get this free report Apple Inc. (AAPL...</td>\n",
       "      <td>Click to get this free report Apple Inc. (AAPL...</td>\n",
       "      <td>Click to get this free report Apple Inc. (AAPL...</td>\n",
       "    </tr>\n",
       "    <tr>\n",
       "      <th>3</th>\n",
       "      <td>2023-12-16 21:00:00 UTC</td>\n",
       "      <td>NVIDIA (NVDA) Up 243% YTD: Will It Carry Momen...</td>\n",
       "      <td>AAPL</td>\n",
       "      <td>https://www.nasdaq.com/articles/nvidia-nvda-up...</td>\n",
       "      <td>NaN</td>\n",
       "      <td>NaN</td>\n",
       "      <td>NVIDIA Corporation NVDA has witnessed a remark...</td>\n",
       "      <td>Other Stocks in the $1T Club Apart from NVIDIA...</td>\n",
       "      <td>Other Stocks in the $1T Club Apart from NVIDIA...</td>\n",
       "      <td>Other Stocks in the $1T Club Apart from NVIDIA...</td>\n",
       "      <td>Other Stocks in the $1T Club Apart from NVIDIA...</td>\n",
       "    </tr>\n",
       "    <tr>\n",
       "      <th>4</th>\n",
       "      <td>2023-12-16 21:00:00 UTC</td>\n",
       "      <td>Pre-Market Most Active for Dec 19, 2023 : BMY,...</td>\n",
       "      <td>AAPL</td>\n",
       "      <td>https://www.nasdaq.com/articles/pre-market-mos...</td>\n",
       "      <td>NaN</td>\n",
       "      <td>NaN</td>\n",
       "      <td>The NASDAQ 100 Pre-Market Indicator is up 10.1...</td>\n",
       "      <td>Apple Inc. (AAPL) is +0.86 at $196.75, with 1,...</td>\n",
       "      <td>Apple Inc. (AAPL) is +0.86 at $196.75, with 1,...</td>\n",
       "      <td>Apple Inc. (AAPL) is +0.86 at $196.75, with 1,...</td>\n",
       "      <td>Apple Inc. (AAPL) is +0.86 at $196.75, with 1,...</td>\n",
       "    </tr>\n",
       "    <tr>\n",
       "      <th>...</th>\n",
       "      <td>...</td>\n",
       "      <td>...</td>\n",
       "      <td>...</td>\n",
       "      <td>...</td>\n",
       "      <td>...</td>\n",
       "      <td>...</td>\n",
       "      <td>...</td>\n",
       "      <td>...</td>\n",
       "      <td>...</td>\n",
       "      <td>...</td>\n",
       "      <td>...</td>\n",
       "    </tr>\n",
       "    <tr>\n",
       "      <th>9333</th>\n",
       "      <td>2020-05-28 00:00:00 UTC</td>\n",
       "      <td>The Zacks Analyst Blog Highlights: Apple, Exxo...</td>\n",
       "      <td>AAPL</td>\n",
       "      <td>http://www.zacks.com/stock/news/950055/the-zac...</td>\n",
       "      <td>Zacks</td>\n",
       "      <td>NaN</td>\n",
       "      <td>NaN</td>\n",
       "      <td>NaN</td>\n",
       "      <td>NaN</td>\n",
       "      <td>NaN</td>\n",
       "      <td>NaN</td>\n",
       "    </tr>\n",
       "    <tr>\n",
       "      <th>9334</th>\n",
       "      <td>2020-05-28 00:00:00 UTC</td>\n",
       "      <td>Growth Stocks for 2020: Trading Tech Stocks + ...</td>\n",
       "      <td>AAPL</td>\n",
       "      <td>https://talkmarkets.com/content/growth-stocks-...</td>\n",
       "      <td>TalkMarkets</td>\n",
       "      <td>NaN</td>\n",
       "      <td>NaN</td>\n",
       "      <td>NaN</td>\n",
       "      <td>NaN</td>\n",
       "      <td>NaN</td>\n",
       "      <td>NaN</td>\n",
       "    </tr>\n",
       "    <tr>\n",
       "      <th>9335</th>\n",
       "      <td>2020-05-28 00:00:00 UTC</td>\n",
       "      <td>Stocks Are Struggling To Post Gains On May 28 ...</td>\n",
       "      <td>AAPL</td>\n",
       "      <td>https://talkmarkets.com/content/stocks-are-str...</td>\n",
       "      <td>TalkMarkets</td>\n",
       "      <td>NaN</td>\n",
       "      <td>NaN</td>\n",
       "      <td>NaN</td>\n",
       "      <td>NaN</td>\n",
       "      <td>NaN</td>\n",
       "      <td>NaN</td>\n",
       "    </tr>\n",
       "    <tr>\n",
       "      <th>9336</th>\n",
       "      <td>2020-05-28 00:00:00 UTC</td>\n",
       "      <td>Swiss National Bank Ready To Buy Much More Tec...</td>\n",
       "      <td>AAPL</td>\n",
       "      <td>https://talkmarkets.com/content/swiss-national...</td>\n",
       "      <td>TalkMarkets</td>\n",
       "      <td>NaN</td>\n",
       "      <td>NaN</td>\n",
       "      <td>NaN</td>\n",
       "      <td>NaN</td>\n",
       "      <td>NaN</td>\n",
       "      <td>NaN</td>\n",
       "    </tr>\n",
       "    <tr>\n",
       "      <th>9337</th>\n",
       "      <td>2020-05-27 00:00:00 UTC</td>\n",
       "      <td>The Topsy-Turvy S&amp;P 500 Earnings Picture</td>\n",
       "      <td>AAPL</td>\n",
       "      <td>https://talkmarkets.com/content/the-topsy-turv...</td>\n",
       "      <td>TalkMarkets</td>\n",
       "      <td>NaN</td>\n",
       "      <td>NaN</td>\n",
       "      <td>NaN</td>\n",
       "      <td>NaN</td>\n",
       "      <td>NaN</td>\n",
       "      <td>NaN</td>\n",
       "    </tr>\n",
       "  </tbody>\n",
       "</table>\n",
       "<p>9338 rows × 11 columns</p>\n",
       "</div>"
      ],
      "text/plain": [
       "                         Date  \\\n",
       "0     2023-12-16 22:00:00 UTC   \n",
       "1     2023-12-16 22:00:00 UTC   \n",
       "2     2023-12-16 21:00:00 UTC   \n",
       "3     2023-12-16 21:00:00 UTC   \n",
       "4     2023-12-16 21:00:00 UTC   \n",
       "...                       ...   \n",
       "9333  2020-05-28 00:00:00 UTC   \n",
       "9334  2020-05-28 00:00:00 UTC   \n",
       "9335  2020-05-28 00:00:00 UTC   \n",
       "9336  2020-05-28 00:00:00 UTC   \n",
       "9337  2020-05-27 00:00:00 UTC   \n",
       "\n",
       "                                          Article_title Stock_symbol  \\\n",
       "0     My 6 Largest Portfolio Holdings Heading Into 2...         AAPL   \n",
       "1     Brokers Suggest Investing in Apple (AAPL): Rea...         AAPL   \n",
       "2                         Company News for Dec 19, 2023         AAPL   \n",
       "3     NVIDIA (NVDA) Up 243% YTD: Will It Carry Momen...         AAPL   \n",
       "4     Pre-Market Most Active for Dec 19, 2023 : BMY,...         AAPL   \n",
       "...                                                 ...          ...   \n",
       "9333  The Zacks Analyst Blog Highlights: Apple, Exxo...         AAPL   \n",
       "9334  Growth Stocks for 2020: Trading Tech Stocks + ...         AAPL   \n",
       "9335  Stocks Are Struggling To Post Gains On May 28 ...         AAPL   \n",
       "9336  Swiss National Bank Ready To Buy Much More Tec...         AAPL   \n",
       "9337           The Topsy-Turvy S&P 500 Earnings Picture         AAPL   \n",
       "\n",
       "                                                    Url    Publisher  Author  \\\n",
       "0     https://www.nasdaq.com/articles/my-6-largest-p...          NaN     NaN   \n",
       "1     https://www.nasdaq.com/articles/brokers-sugges...          NaN     NaN   \n",
       "2     https://www.nasdaq.com/articles/company-news-f...          NaN     NaN   \n",
       "3     https://www.nasdaq.com/articles/nvidia-nvda-up...          NaN     NaN   \n",
       "4     https://www.nasdaq.com/articles/pre-market-mos...          NaN     NaN   \n",
       "...                                                 ...          ...     ...   \n",
       "9333  http://www.zacks.com/stock/news/950055/the-zac...        Zacks     NaN   \n",
       "9334  https://talkmarkets.com/content/growth-stocks-...  TalkMarkets     NaN   \n",
       "9335  https://talkmarkets.com/content/stocks-are-str...  TalkMarkets     NaN   \n",
       "9336  https://talkmarkets.com/content/swiss-national...  TalkMarkets     NaN   \n",
       "9337  https://talkmarkets.com/content/the-topsy-turv...  TalkMarkets     NaN   \n",
       "\n",
       "                                                Article  \\\n",
       "0     After an absolute disaster of a year in 2022, ...   \n",
       "1     When deciding whether to buy, sell, or hold a ...   \n",
       "2     Shares of Apple Inc. AAPL lost 0.9% on China’s...   \n",
       "3     NVIDIA Corporation NVDA has witnessed a remark...   \n",
       "4     The NASDAQ 100 Pre-Market Indicator is up 10.1...   \n",
       "...                                                 ...   \n",
       "9333                                                NaN   \n",
       "9334                                                NaN   \n",
       "9335                                                NaN   \n",
       "9336                                                NaN   \n",
       "9337                                                NaN   \n",
       "\n",
       "                                            Lsa_summary  \\\n",
       "0     3: Apple There's little question that Apple (N...   \n",
       "1     Let's take a look at what these Wall Street he...   \n",
       "2     Shares of Apple Inc. AAPL lost 0.9% on China’s...   \n",
       "3     Other Stocks in the $1T Club Apart from NVIDIA...   \n",
       "4     Apple Inc. (AAPL) is +0.86 at $196.75, with 1,...   \n",
       "...                                                 ...   \n",
       "9333                                                NaN   \n",
       "9334                                                NaN   \n",
       "9335                                                NaN   \n",
       "9336                                                NaN   \n",
       "9337                                                NaN   \n",
       "\n",
       "                                           Luhn_summary  \\\n",
       "0     3: Apple There's little question that Apple (N...   \n",
       "1     Click to get this free report Apple Inc. (AAPL...   \n",
       "2     Click to get this free report Apple Inc. (AAPL...   \n",
       "3     Other Stocks in the $1T Club Apart from NVIDIA...   \n",
       "4     Apple Inc. (AAPL) is +0.86 at $196.75, with 1,...   \n",
       "...                                                 ...   \n",
       "9333                                                NaN   \n",
       "9334                                                NaN   \n",
       "9335                                                NaN   \n",
       "9336                                                NaN   \n",
       "9337                                                NaN   \n",
       "\n",
       "                                       Textrank_summary  \\\n",
       "0     3: Apple There's little question that Apple (N...   \n",
       "1     Let's take a look at what these Wall Street he...   \n",
       "2     Click to get this free report Apple Inc. (AAPL...   \n",
       "3     Other Stocks in the $1T Club Apart from NVIDIA...   \n",
       "4     Apple Inc. (AAPL) is +0.86 at $196.75, with 1,...   \n",
       "...                                                 ...   \n",
       "9333                                                NaN   \n",
       "9334                                                NaN   \n",
       "9335                                                NaN   \n",
       "9336                                                NaN   \n",
       "9337                                                NaN   \n",
       "\n",
       "                                        Lexrank_summary  \n",
       "0     3: Apple There's little question that Apple (N...  \n",
       "1     Brokerage Recommendation Trends for AAPL Let's...  \n",
       "2     Click to get this free report Apple Inc. (AAPL...  \n",
       "3     Other Stocks in the $1T Club Apart from NVIDIA...  \n",
       "4     Apple Inc. (AAPL) is +0.86 at $196.75, with 1,...  \n",
       "...                                                 ...  \n",
       "9333                                                NaN  \n",
       "9334                                                NaN  \n",
       "9335                                                NaN  \n",
       "9336                                                NaN  \n",
       "9337                                                NaN  \n",
       "\n",
       "[9338 rows x 11 columns]"
      ]
     },
     "execution_count": 6,
     "metadata": {},
     "output_type": "execute_result"
    }
   ],
   "source": [
    "df = pd.read_csv('C:/Users/peggy/Documents/Fabeon/deep_learning/AAPL.csv', sep=',', encoding='utf-8') \n",
    "df\n"
   ]
  },
  {
   "cell_type": "markdown",
   "id": "5c0ea995-337e-460a-b40d-571a8bf1a54c",
   "metadata": {},
   "source": [
    "### Embedding"
   ]
  },
  {
   "cell_type": "code",
   "execution_count": 10,
   "id": "c8f063d1-a215-4773-b874-f3ba6116f84b",
   "metadata": {},
   "outputs": [
    {
     "data": {
      "text/plain": [
       "['https://www.nasdaq.com/articles/my-6-largest-portfolio-holdings-heading-into-2024-and-the-important-investing-lesson-i',\n",
       " 'https://www.nasdaq.com/articles/brokers-suggest-investing-in-apple-aapl%3A-read-this-before-placing-a-bet',\n",
       " 'https://www.nasdaq.com/articles/company-news-for-dec-19-2023',\n",
       " 'https://www.nasdaq.com/articles/nvidia-nvda-up-243-ytd%3A-will-it-carry-momentum-in-2024',\n",
       " 'https://www.nasdaq.com/articles/pre-market-most-active-for-dec-19-2023-%3A-bmy-sqqq-nio-ubs-tqqq-uber-nvda-aapl-gotu-can',\n",
       " 'https://www.nasdaq.com/articles/3-artificial-intelligence-ai-stocks-for-2024-and-beyond',\n",
       " 'https://www.nasdaq.com/articles/aapl-quantitative-stock-analysis-10',\n",
       " 'https://www.nasdaq.com/articles/should-vanguard-sp-500-etf-voo-be-on-your-investing-radar-11',\n",
       " 'https://www.nasdaq.com/articles/is-flexshares-quality-dividend-etf-qdf-a-strong-etf-right-now-0',\n",
       " 'https://www.nasdaq.com/articles/is-flexshares-stoxx-us-esg-select-index-fund-esg-a-strong-etf-right-now-0']"
      ]
     },
     "execution_count": 10,
     "metadata": {},
     "output_type": "execute_result"
    }
   ],
   "source": [
    "list_url = df['Url'].head(10).tolist()\n",
    "list_url "
   ]
  },
  {
   "cell_type": "code",
   "execution_count": 12,
   "id": "693cfd33-c0dd-4b05-b1c6-01977412dd97",
   "metadata": {},
   "outputs": [],
   "source": [
    "# Choix d'un modèle \n",
    "from langchain_huggingface import HuggingFaceEmbeddings\n",
    " \n",
    "embeddings = HuggingFaceEmbeddings(model_name=\"all-MiniLM-L6-v2\")\n"
   ]
  },
  {
   "cell_type": "code",
   "execution_count": 13,
   "id": "ac52878b-b109-4855-8dfc-9a3a928660e1",
   "metadata": {},
   "outputs": [],
   "source": [
    "# from langchain_community.document_loaders import WebBaseLoader\n",
    "from langchain_community.vectorstores import FAISS\n",
    "from langchain_text_splitters import RecursiveCharacterTextSplitter\n",
    "from langchain_core.documents import Document\n",
    "\n",
    "# réduction du nombre de lignes\n",
    "df_sample = df.head(1000)\n",
    "\n",
    "# Convertir les lignes du DataFrame en objets Document\n",
    "docs = [\n",
    "    Document(page_content=row[\"Article\"])  \n",
    "    for _, row in df_sample.iterrows()\n",
    "    if isinstance(row[\"Article\"], str) and row[\"Article\"].strip() != \"\"\n",
    "]\n",
    "\n",
    "# Découpage du texte\n",
    "text_splitter = RecursiveCharacterTextSplitter.from_tiktoken_encoder(\n",
    "    chunk_size=100, chunk_overlap=50                         # chaque morceaux contiendra 100 tokens maxi  # chaque chunk chevauche le précédent de 50 tokens pour conserver le contexte\n",
    ")\n",
    "doc_splits = text_splitter.split_documents(docs)             # liste de textes prêts à être vectorisés\n",
    "\n",
    "# Création de la BDD vectorielle\n",
    "vectorstore = FAISS.from_documents(\n",
    "    documents=doc_splits,                                    # convertit chaque chunk de texte en vecteurs\n",
    "    embedding=embeddings                                     # via le modèle d'embedding\n",
    ")\n",
    "retriever = vectorstore.as_retriever()                       # transforme la base FAISS en retriever utilisable par un agent longChain"
   ]
  },
  {
   "cell_type": "code",
   "execution_count": 14,
   "id": "038f3445-41f2-4052-a3d8-16dcdbb117f0",
   "metadata": {},
   "outputs": [],
   "source": [
    "# Création de l'outil de récupération (utilisable par un agent LangChain)\n",
    "from langchain.tools.retriever import create_retriever_tool\n",
    "\n",
    "retriever_tool = create_retriever_tool(\n",
    "    retriever,               # objet FAISS\n",
    "    \"retrieve_blog_posts\",   # nom interne de l'outil utilisé par l'agent qd il planifie des actions\n",
    "    \"Search and return information about Lilian Weng blog posts on LLM agents, prompt engineering, and adversarial attacks on LLMs.\",\n",
    ")\n",
    "\n",
    "tools = [retriever_tool]  # l'outil est mis ds une liste"
   ]
  },
  {
   "cell_type": "code",
   "execution_count": 15,
   "id": "f3a1a100-62bd-4589-a0f8-9f659f9539ec",
   "metadata": {},
   "outputs": [],
   "source": [
    "from typing import Annotated, Sequence\n",
    "from typing_extensions import TypedDict\n",
    "from langchain_core.messages import BaseMessage\n",
    "from langgraph.graph.message import add_messages\n",
    "\n",
    "# Classe qui représente l'état courant d'un agent dans un graphe LangGraph\n",
    "class AgentState(TypedDict):\n",
    "    messages: Annotated[Sequence[BaseMessage], add_messages]   # ajout d'un nouveau message à la liste"
   ]
  },
  {
   "cell_type": "markdown",
   "id": "8cfd50d0-3bb6-447b-8f6f-11014d19eb30",
   "metadata": {},
   "source": [
    "### Génération de texte"
   ]
  },
  {
   "cell_type": "code",
   "execution_count": 153,
   "id": "f0592281-3d06-44d4-b143-c15c7d04d744",
   "metadata": {},
   "outputs": [],
   "source": [
    "# pip install ollama\n"
   ]
  },
  {
   "cell_type": "code",
   "execution_count": 154,
   "id": "1db117fd-5873-4375-8d90-72f4a4d2077b",
   "metadata": {},
   "outputs": [],
   "source": [
    "# pip install -U langchain-ollama\n"
   ]
  },
  {
   "cell_type": "code",
   "execution_count": 17,
   "id": "d77ded15-e38a-4576-8e23-464865b33b09",
   "metadata": {},
   "outputs": [],
   "source": [
    "from langchain_ollama import OllamaLLM\n",
    "from langchain_core.output_parsers import StrOutputParser\n",
    "from langchain_core.prompts import PromptTemplate\n",
    "from typing import Literal\n",
    "\n",
    "llm = OllamaLLM(model=\"mistral\")\n",
    "output_parser = StrOutputParser()\n",
    "\n",
    "def grade_documents(state) -> Literal[\"generate\", \"rewrite\"]:\n",
    "    \"\"\"\n",
    "    Vérifie si un document récupéré est pertinent par rapport à la question de l'utilisateur.\n",
    "\n",
    "    Cette fonction utilise un modèle de langage (LLM) pour évaluer la pertinence sémantique\n",
    "    entre une question et un document. Si le document est jugé pertinent, elle retourne \"generate\",\n",
    "    sinon elle retourne \"rewrite\" pour inviter l'utilisateur à reformuler sa question.\n",
    "\n",
    "    Args:\n",
    "        state (dict): État courant de l'agent, contenant la liste des messages échangés.\n",
    "\n",
    "    Returns:\n",
    "        Literal[\"generate\", \"rewrite\"]: Décision à suivre dans le graphe, selon la pertinence détectée.\n",
    "    \"\"\"\n",
    "    print(\"---ÉVALUATION DE LA PERTINENCE---\")\n",
    "\n",
    "    # Définition du prompt pour le LLM\n",
    "    prompt = PromptTemplate(\n",
    "        template=(\n",
    "            \"Tu es un évaluateur chargé de déterminer la pertinence d'un document par rapport à une question utilisateur.\\n\\n\"\n",
    "            \"Document :\\n{context}\\n\\n\"\n",
    "            \"Question :\\n{question}\\n\\n\"\n",
    "            \"Si le document contient des mots-clés ou un sens apparenté à la question, réponds 'yes', sinon réponds 'no'.\"\n",
    "        ),\n",
    "        input_variables=[\"context\", \"question\"]\n",
    "    )\n",
    "\n",
    "    # Récupération des messages\n",
    "    messages = state[\"messages\"]\n",
    "    question = messages[0].content     # Question utilisateur\n",
    "    context = messages[-1].content     # Document récupéré\n",
    "\n",
    "    # Création de la chaîne LLM avec parsing de la réponse\n",
    "    chain = prompt | llm | output_parser\n",
    "    result = chain.invoke({\"context\": context, \"question\": question}).strip().lower()\n",
    "\n",
    "    # Décision en fonction de la réponse du modèle\n",
    "    if \"yes\" in result:\n",
    "        print(\"---DÉCISION : DOCUMENT PERTINENT---\")\n",
    "        return {\"next\": \"generate\"}\n",
    "    else:\n",
    "        print(\"---DÉCISION : DOCUMENT NON PERTINENT---\")\n",
    "        return {\"next\": \"rewrite\"}"
   ]
  },
  {
   "cell_type": "code",
   "execution_count": 18,
   "id": "31fa5a3e-d413-47cd-bf0f-48de3299b342",
   "metadata": {},
   "outputs": [],
   "source": [
    "from langchain_core.messages import AIMessage\n",
    "\n",
    "def agent(state: AgentState) -> AgentState:\n",
    "    \"\"\"\n",
    "    Appelle le modèle via Ollama et ajoute la réponse dans l'état.\n",
    "\n",
    "    Args:\n",
    "        state (AgentState): L'état actuel (liste des messages)\n",
    "    \n",
    "    Returns:\n",
    "        AgentState: L'état mis à jour avec la réponse du modèle\n",
    "    \"\"\"\n",
    "    print(\"---CALL AGENT---\")\n",
    "    messages = state[\"messages\"]\n",
    "    last_user_message = messages[-1].content\n",
    "\n",
    "    response = llm.invoke(last_user_message)\n",
    "\n",
    "    return {\"messages\": [AIMessage(content=response)]}\n"
   ]
  },
  {
   "cell_type": "code",
   "execution_count": 19,
   "id": "e7e3aba9-e06d-4e47-8466-51e7a4881d96",
   "metadata": {},
   "outputs": [],
   "source": [
    "# Node \n",
    "def generate(state: AgentState) -> AgentState:\n",
    "    \"\"\"\n",
    "    Utilise le modèle de langage (LLM) pour générer une réponse à partir du dernier\n",
    "    message utilisateur contenu dans l'état.\n",
    "\n",
    "    Args:\n",
    "        state (AgentState): L'état actuel, contenant l'historique des messages.\n",
    "\n",
    "    Returns:\n",
    "        AgentState: L'état mis à jour avec la réponse générée par le modèle.\n",
    "    \"\"\"\n",
    "    print(\"---GENERATE---\")\n",
    "    messages = state[\"messages\"]\n",
    "    user_message = messages[-1]  # Dernier message utilisateur\n",
    "    response = llm.invoke(user_message.content)\n",
    "    return {\"messages\": [AIMessage(content=response)]}\n"
   ]
  },
  {
   "cell_type": "code",
   "execution_count": 20,
   "id": "c589a390-c734-4612-8ed9-6191b0c9f67f",
   "metadata": {},
   "outputs": [],
   "source": [
    "# Node\n",
    "def rewrite(state: AgentState) -> AgentState:\n",
    "    \"\"\"\n",
    "    Répond à l'utilisateur lorsque le document récupéré n'est pas jugé pertinent par le système.\n",
    "    Invite l'utilisateur à reformuler sa question pour améliorer la recherche.\n",
    "\n",
    "    Args:\n",
    "        state (AgentState): L'état actuel, contenant l'historique des messages.\n",
    "\n",
    "    Returns:\n",
    "        AgentState: L'état mis à jour avec un message demandant une reformulation.\n",
    "    \"\"\"\n",
    "    print(\"---REWRITE---\")\n",
    "    return {\"messages\": [AIMessage(content=\"Le document n'est pas pertinent. Pouvez-vous reformuler ?\")]}\n"
   ]
  },
  {
   "cell_type": "code",
   "execution_count": 21,
   "id": "3bb3152a-c08f-45c8-80ff-c3ff0277bef7",
   "metadata": {},
   "outputs": [],
   "source": [
    "from langgraph.graph import StateGraph, END"
   ]
  },
  {
   "cell_type": "code",
   "execution_count": 22,
   "id": "192e1cb1-20d2-485f-b6a9-569b8cbcc743",
   "metadata": {},
   "outputs": [
    {
     "data": {
      "text/plain": [
       "<langgraph.graph.state.StateGraph at 0x2a377c0a870>"
      ]
     },
     "execution_count": 22,
     "metadata": {},
     "output_type": "execute_result"
    }
   ],
   "source": [
    "# Construction du graphe LangGraph\n",
    "builder = StateGraph(AgentState)                           # Spécifie le type d'état partagé entre les nodes\n",
    "\n",
    "builder.add_node(\"grade_documents\", grade_documents)       # Évaluation de la pertinence\n",
    "builder.add_node(\"generate\", generate)                     # Génération de la réponse\n",
    "builder.add_node(\"rewrite\", rewrite)                       # Reformulation si non pertinent\n",
    "builder.add_node(\"agent\", agent)                           # Appel final à l'agent principal"
   ]
  },
  {
   "cell_type": "code",
   "execution_count": 23,
   "id": "bdd3e228-f989-44a1-9f8e-84e7e6640dbe",
   "metadata": {},
   "outputs": [
    {
     "data": {
      "text/plain": [
       "<langgraph.graph.state.StateGraph at 0x2a377c0a870>"
      ]
     },
     "execution_count": 23,
     "metadata": {},
     "output_type": "execute_result"
    }
   ],
   "source": [
    "# Logique de décision\n",
    "builder.set_entry_point(\"grade_documents\")                 # Point d’entrée du graphe (premier node exécuté)\n",
    "builder.add_conditional_edges(\n",
    "    \"grade_documents\",\n",
    "    lambda state: state[\"next\"],  \n",
    "    {\n",
    "        \"generate\": \"generate\",   \n",
    "        \"rewrite\": \"rewrite\"\n",
    "    }\n",
    ")"
   ]
  },
  {
   "cell_type": "code",
   "execution_count": 24,
   "id": "32b5ca9e-5167-47e1-8ed0-2fb34a64a669",
   "metadata": {},
   "outputs": [
    {
     "data": {
      "text/plain": [
       "<langgraph.graph.state.StateGraph at 0x2a377c0a870>"
      ]
     },
     "execution_count": 24,
     "metadata": {},
     "output_type": "execute_result"
    }
   ],
   "source": [
    "# Fin du graphe\n",
    "builder.add_edge(\"agent\", END)                             # Fin du graphe après l’agent          \n",
    "builder.add_edge(\"rewrite\", END)"
   ]
  },
  {
   "cell_type": "markdown",
   "id": "13c259db-0024-4ffc-a904-ea74c7b8b197",
   "metadata": {},
   "source": [
    "### Execution du graphe"
   ]
  },
  {
   "cell_type": "code",
   "execution_count": 26,
   "id": "ff1d927c-737b-46e4-828b-2fba7327aa3e",
   "metadata": {},
   "outputs": [],
   "source": [
    "# Compilation du graphe pour l'exécuter\n",
    "graph = builder.compile()"
   ]
  },
  {
   "cell_type": "code",
   "execution_count": 27,
   "id": "2d3f0921-e3a0-45a0-8c8f-7f6f9a933cd2",
   "metadata": {},
   "outputs": [
    {
     "name": "stdout",
     "output_type": "stream",
     "text": [
      "---ÉVALUATION DE LA PERTINENCE---\n",
      "---DÉCISION : DOCUMENT PERTINENT---\n",
      "\"Output from node 'grade_documents':\"\n",
      "None\n",
      "\n",
      "\n",
      "\n",
      "---GENERATE---\n",
      "\"Output from node 'generate':\"\n",
      "{ 'messages': [ AIMessage(content=\" Il est difficile de déterminer quels sont les meilleurs investissements ou les meilleures actions aujourd'hui car cela dépend de beaucoup de facteurs, tels que la régulation financière, l'économie politique et les tendances générales du marché.\\n\\nToutefois, voici quelques-unes des sociétés qui sont souvent mentionnées comme des investissements prometteurs :\\n\\n1. Microsoft Corporation (MSFT) : La société est un leader mondial dans le domaine de l'informatique et des technologies. Elle a vu son activité croître significativement pendant la pandémie du Covid-19 en raison d'une demande accrue en services de cloud computing, de collaboration et de sécurité.\\n2. Amazon.com Inc. (AMZN) : L'entreprise est un leader mondial dans le commerce en ligne et les services de cloud computing. Le marché en ligne a connu une croissance spectaculaire pendant la pandémie du Covid-19, ce qui a contribué à l'augmentation des revenus d'Amazon.\\n3. Alphabet Inc. (GOOGL) : La société est le propriétaire de Google et les revenus de l'entreprise sont largement dépendants de la publicité en ligne, ce qui a connu une forte croissance pendant la pandémie du Covid-19 car les utilisateurs ont passé plus de temps à consulter Internet.\\n4. Tesla Inc. (TSLA) : La société est un leader mondial dans le développement et la fabrication d'automobiles électriques. L'industrie des véhicules électriques a connu une croissance significative ces dernières années en raison de la demande croissante pour les automobiles plus écologiques.\\n5. NVIDIA Corporation (NVDA) : La société est un leader mondial dans le développement et la fabrication de puces graphiques avancées pour ordinateurs personnels, serveurs et autres applications. Le marché des jeux vidéo a connu une croissance significative pendant la pandémie du Covid-19 en raison de l'isolement social des consommateurs.\", additional_kwargs={}, response_metadata={}, id='a646c519-9ef3-4ca8-b9d3-2c10d6a95759')]}\n",
      "\n",
      "\n",
      "\n"
     ]
    }
   ],
   "source": [
    "import pprint\n",
    "\n",
    "# Question\n",
    "inputs = {\n",
    "    \"messages\": [\n",
    "        (\"user\", \"Quelles sont les actions les plus performantes en ce moment ?\"),\n",
    "    ]  # answer = \"Zacks\"\n",
    "}\n",
    "for output in graph.stream(inputs):\n",
    "    for key, value in output.items():\n",
    "        pprint.pprint(f\"Output from node '{key}':\")\n",
    "        pprint.pprint(value, indent=2, width=80, depth=None)\n",
    "    print(\"\\n\\n\")"
   ]
  },
  {
   "cell_type": "code",
   "execution_count": null,
   "id": "674624a1-7936-4538-b180-ae312016a7d9",
   "metadata": {},
   "outputs": [],
   "source": []
  },
  {
   "cell_type": "markdown",
   "id": "4698ba58-6387-43ea-abe3-40ae52716fc8",
   "metadata": {},
   "source": [
    "### Optimisation"
   ]
  },
  {
   "cell_type": "code",
   "execution_count": 28,
   "id": "cba91af3-1337-48bd-a3f0-b1cc351f6f8f",
   "metadata": {},
   "outputs": [
    {
     "name": "stdout",
     "output_type": "stream",
     "text": [
      "➡️ Test avec chunk_size = 500, overlap = 100\n",
      "📦 12817 chunks générés\n",
      "🔍 Résultat de la requête test:\n",
      "market making or asset management activities of any securities. These returns are from hypothetical portfolios consisting of stocks with Zacks Rank = 1 that were rebalanced monthly with zero transaction costs. These are not the returns of actual portfolios of stocks. The S&P 500 is an unmanaged index. Visit https://www.zacks.com/performance for information about the performance numbers displayed in this press release.\n",
      "➡️ Test avec chunk_size = 500, overlap = 200\n",
      "📦 13735 chunks générés\n"
     ]
    },
    {
     "name": "stderr",
     "output_type": "stream",
     "text": [
      "C:\\Users\\peggy\\AppData\\Local\\Temp\\ipykernel_20580\\3070219076.py:18: LangChainDeprecationWarning: The method `BaseRetriever.get_relevant_documents` was deprecated in langchain-core 0.1.46 and will be removed in 1.0. Use :meth:`~invoke` instead.\n",
      "  results2 = retriever2.get_relevant_documents(test_question, k=1)   # la question est encodée en vecteur avec le même embedding\n"
     ]
    },
    {
     "name": "stdout",
     "output_type": "stream",
     "text": [
      "🔍 Résultat de la requête test:\n",
      "Moreover, momentum stocks serve as a strategic tool for portfolio diversification. They offer exposure to various sectors and industries, potentially mitigating overall risk. The approach taps into the psychological aspect of investing, leveraging the human tendency to ‘follow the herd.’\n",
      "➡️ Test avec chunk_size = 1000, overlap = 100\n",
      "📦 5873 chunks générés\n",
      "🔍 Résultat de la requête test:\n",
      "FUNDAMENTAL MOMENTUM: PASS\n",
      "TWELVE MINUS ONE MOMENTUM: PASS\n",
      "FINAL RANK: PASS\n",
      "➡️ Test avec chunk_size = 1000, overlap = 200\n",
      "📦 6065 chunks générés\n",
      "🔍 Résultat de la requête test:\n",
      "FUNDAMENTAL MOMENTUM: PASS\n",
      "TWELVE MINUS ONE MOMENTUM: PASS\n",
      "FINAL RANK: PASS\n",
      "➡️ Test avec chunk_size = 1500, overlap = 100\n",
      "📦 3894 chunks générés\n",
      "🔍 Résultat de la requête test:\n",
      "Volatility is back down at very low levels, with the VIX Index closing at 12.63 yesterday. When volatility is low, options become cheaper, so today we’re taking a look at the Long Straddle Screener.\n",
      "A long straddle is an advanced options strategy used when a trader is seeking to profit from a big move in either direction and / or an increase in implied volatility.\n",
      "To execute the strategy, a trader would buy a call and a put with the following conditions:\n",
      "Both options must use the same underlying stock\n",
      "Both options must have the same expiration\n",
      "Both options must have the same strike price\n",
      "Since it involves having to buy both a call and a put, the trader must pay two premiums up-front, which also happens to be the maximum possible loss.\n",
      "The potential profit is theoretically unlimited, although the trade will lose money each day through time decay if a big move does not occur.\n",
      "The position means you will start with a net debit and only profit when the underlying stock rises above the upper break-even point or falls below the lower break-even point.\n",
      "Profits can be made with a smaller price move if the move happens early in the trade.\n",
      "Let’s take a look at Barchart’s Long Straddle Screener for December 12th. I have added a filer for Market Cap above 40b and total call volume above 2,000.\n",
      "The screener shows some interesting long straddle trades on popular stocks such as CVX, XOM, AAPL, CSCO, PFE, MSFT, OXY and BAC. Let’s walk through a couple of examples.\n",
      "CVX Long Straddle Example\n",
      "➡️ Test avec chunk_size = 1500, overlap = 200\n",
      "📦 3945 chunks générés\n",
      "🔍 Résultat de la requête test:\n",
      "Volatility is back down at very low levels, with the VIX Index closing at 12.63 yesterday. When volatility is low, options become cheaper, so today we’re taking a look at the Long Straddle Screener.\n",
      "A long straddle is an advanced options strategy used when a trader is seeking to profit from a big move in either direction and / or an increase in implied volatility.\n",
      "To execute the strategy, a trader would buy a call and a put with the following conditions:\n",
      "Both options must use the same underlying stock\n",
      "Both options must have the same expiration\n",
      "Both options must have the same strike price\n",
      "Since it involves having to buy both a call and a put, the trader must pay two premiums up-front, which also happens to be the maximum possible loss.\n",
      "The potential profit is theoretically unlimited, although the trade will lose money each day through time decay if a big move does not occur.\n",
      "The position means you will start with a net debit and only profit when the underlying stock rises above the upper break-even point or falls below the lower break-even point.\n",
      "Profits can be made with a smaller price move if the move happens early in the trade.\n",
      "Let’s take a look at Barchart’s Long Straddle Screener for December 12th. I have added a filer for Market Cap above 40b and total call volume above 2,000.\n",
      "The screener shows some interesting long straddle trades on popular stocks such as CVX, XOM, AAPL, CSCO, PFE, MSFT, OXY and BAC. Let’s walk through a couple of examples.\n",
      "CVX Long Straddle Example\n"
     ]
    }
   ],
   "source": [
    "# Combinaison chunk_size et overlap\n",
    "chunk_sizes = [500, 1000, 1500]\n",
    "overlaps = [100, 200]\n",
    "\n",
    "for chunk_size in chunk_sizes:\n",
    "    for overlap in overlaps:\n",
    "        print(f\"➡️ Test avec chunk_size = {chunk_size}, overlap = {overlap}\")\n",
    "        text_splitter2 = RecursiveCharacterTextSplitter(chunk_size=chunk_size, chunk_overlap=overlap)\n",
    "        doc_splits2 = text_splitter2.split_documents(docs)\n",
    "        print(f\"📦 {len(doc_splits2)} chunks générés\")\n",
    "\n",
    "        vectorstore2 = FAISS.from_documents(doc_splits2, embedding=embeddings)\n",
    "        retriever2 = vectorstore2.as_retriever()\n",
    "        \n",
    "        # Test d’une requête\n",
    "        print(\"🔍 Résultat de la requête test:\")\n",
    "        test_question = \"Quelles sont les actions les plus performantes en ce moment \"\n",
    "        results2 = retriever2.get_relevant_documents(test_question, k=1)   # la question est encodée en vecteur avec le même embedding\n",
    "        print(results2[0].page_content)"
   ]
  },
  {
   "cell_type": "code",
   "execution_count": 31,
   "id": "15155605-f3c3-49d2-9e55-ebbed49d39da",
   "metadata": {},
   "outputs": [
    {
     "name": "stdout",
     "output_type": "stream",
     "text": [
      "➡️ Test avec chunk_size = 200, overlap = 50\n",
      "📦 34153 chunks générés\n",
      "🔍 Résultat de la requête test:\n",
      "2. MercadoLibre ...\n",
      "\n",
      "➡️ Test avec chunk_size = 200, overlap = 100\n",
      "📦 38333 chunks générés\n",
      "🔍 Résultat de la requête test:\n",
      "2. MercadoLibre ...\n",
      "\n",
      "➡️ Test avec chunk_size = 300, overlap = 50\n",
      "📦 22270 chunks générés\n",
      "🔍 Résultat de la requête test:\n",
      "FUNDAMENTAL MOMENTUM: PASS\n",
      "TWELVE MINUS ONE MOMENTUM: PASS\n",
      "FINAL RANK: PASS ...\n",
      "\n",
      "➡️ Test avec chunk_size = 300, overlap = 100\n",
      "📦 22970 chunks générés\n",
      "🔍 Résultat de la requête test:\n",
      "FUNDAMENTAL MOMENTUM: PASS\n",
      "TWELVE MINUS ONE MOMENTUM: PASS\n",
      "FINAL RANK: PASS ...\n",
      "\n",
      "➡️ Test avec chunk_size = 500, overlap = 50\n",
      "📦 12671 chunks générés\n",
      "🔍 Résultat de la requête test:\n",
      "The following table summarizes whether the stock meets each of this strategy's tests. Not all criteria in the below table receive equal weighting or are independent, but the table provides a brief overview of the strong and weak points of the security in the context of the strategy's criteria.\n",
      "FUNDA ...\n",
      "\n",
      "➡️ Test avec chunk_size = 500, overlap = 100\n",
      "📦 12817 chunks générés\n",
      "🔍 Résultat de la requête test:\n",
      "market making or asset management activities of any securities. These returns are from hypothetical portfolios consisting of stocks with Zacks Rank = 1 that were rebalanced monthly with zero transaction costs. These are not the returns of actual portfolios of stocks. The S&P 500 is an unmanaged inde ...\n",
      "\n"
     ]
    }
   ],
   "source": [
    "# Combinaison chunk_size et overlap\n",
    "chunk_sizes = [200, 300, 500]\n",
    "overlaps = [50, 100]\n",
    "\n",
    "for chunk_size in chunk_sizes:\n",
    "    for overlap in overlaps:\n",
    "        print(f\"➡️ Test avec chunk_size = {chunk_size}, overlap = {overlap}\")\n",
    "        text_splitter3 = RecursiveCharacterTextSplitter(chunk_size=chunk_size, chunk_overlap=overlap)\n",
    "        doc_splits3 = text_splitter3.split_documents(docs)\n",
    "        print(f\"📦 {len(doc_splits3)} chunks générés\")\n",
    "\n",
    "        vectorstore3 = FAISS.from_documents(doc_splits3, embedding=embeddings)\n",
    "        retriever3 = vectorstore3.as_retriever()\n",
    "        \n",
    "        # Test d’une requête\n",
    "        print(\"🔍 Résultat de la requête test:\")\n",
    "        test_question = \"Quelles sont les actions les plus performantes en ce moment ?\"\n",
    "        results3 = retriever3.get_relevant_documents(test_question, k=1)   # la question est encodée en vecteur avec le même embedding\n",
    "        print(results3[0].page_content[:300], \"...\\n\")\n"
   ]
  },
  {
   "cell_type": "markdown",
   "id": "4941d357-ff56-4c65-9a6b-2daec8ab8423",
   "metadata": {},
   "source": [
    "### Similarité"
   ]
  },
  {
   "cell_type": "code",
   "execution_count": 33,
   "id": "9b749ea1-9e80-4f0b-89a2-7c135da65991",
   "metadata": {},
   "outputs": [
    {
     "name": "stdout",
     "output_type": "stream",
     "text": [
      "➡️ Test avec chunk_size = 500, overlap = 100\n",
      "📦 12817 chunks générés\n",
      "🔍 Résultat de la requête test:\n",
      "market making or asset management activities of any securities. These returns are from hypothetical portfolios consisting of stocks with Zacks Rank = 1 that were rebalanced monthly with zero transaction costs. These are not the returns of actual portfolios of stocks. The S&P 500 is an unmanaged index. Visit https://www.zacks.com/performance for information about the performance numbers displayed in this press release.\n",
      "➡️ Test avec chunk_size = 500, overlap = 200\n",
      "📦 13735 chunks générés\n",
      "🔍 Résultat de la requête test:\n",
      "The following table summarizes whether the stock meets each of this strategy's tests. Not all criteria in the below table receive equal weighting or are independent, but the table provides a brief overview of the strong and weak points of the security in the context of the strategy's criteria.\n",
      "FUNDAMENTAL MOMENTUM: PASS\n",
      "TWELVE MINUS ONE MOMENTUM: PASS\n",
      "FINAL RANK: PASS\n",
      "➡️ Test avec chunk_size = 1000, overlap = 100\n",
      "📦 5873 chunks générés\n",
      "🔍 Résultat de la requête test:\n",
      "FUNDAMENTAL MOMENTUM: PASS\n",
      "TWELVE MINUS ONE MOMENTUM: PASS\n",
      "FINAL RANK: PASS\n",
      "➡️ Test avec chunk_size = 1000, overlap = 200\n",
      "📦 6065 chunks générés\n",
      "🔍 Résultat de la requête test:\n",
      "FUNDAMENTAL MOMENTUM: PASS\n",
      "TWELVE MINUS ONE MOMENTUM: PASS\n",
      "FINAL RANK: PASS\n",
      "➡️ Test avec chunk_size = 1500, overlap = 100\n",
      "📦 3894 chunks générés\n",
      "🔍 Résultat de la requête test:\n",
      "Volatility is back down at very low levels, with the VIX Index closing at 12.63 yesterday. When volatility is low, options become cheaper, so today we’re taking a look at the Long Straddle Screener.\n",
      "A long straddle is an advanced options strategy used when a trader is seeking to profit from a big move in either direction and / or an increase in implied volatility.\n",
      "To execute the strategy, a trader would buy a call and a put with the following conditions:\n",
      "Both options must use the same underlying stock\n",
      "Both options must have the same expiration\n",
      "Both options must have the same strike price\n",
      "Since it involves having to buy both a call and a put, the trader must pay two premiums up-front, which also happens to be the maximum possible loss.\n",
      "The potential profit is theoretically unlimited, although the trade will lose money each day through time decay if a big move does not occur.\n",
      "The position means you will start with a net debit and only profit when the underlying stock rises above the upper break-even point or falls below the lower break-even point.\n",
      "Profits can be made with a smaller price move if the move happens early in the trade.\n",
      "Let’s take a look at Barchart’s Long Straddle Screener for December 12th. I have added a filer for Market Cap above 40b and total call volume above 2,000.\n",
      "The screener shows some interesting long straddle trades on popular stocks such as CVX, XOM, AAPL, CSCO, PFE, MSFT, OXY and BAC. Let’s walk through a couple of examples.\n",
      "CVX Long Straddle Example\n",
      "➡️ Test avec chunk_size = 1500, overlap = 200\n",
      "📦 3945 chunks générés\n",
      "🔍 Résultat de la requête test:\n",
      "Volatility is back down at very low levels, with the VIX Index closing at 12.63 yesterday. When volatility is low, options become cheaper, so today we’re taking a look at the Long Straddle Screener.\n",
      "A long straddle is an advanced options strategy used when a trader is seeking to profit from a big move in either direction and / or an increase in implied volatility.\n",
      "To execute the strategy, a trader would buy a call and a put with the following conditions:\n",
      "Both options must use the same underlying stock\n",
      "Both options must have the same expiration\n",
      "Both options must have the same strike price\n",
      "Since it involves having to buy both a call and a put, the trader must pay two premiums up-front, which also happens to be the maximum possible loss.\n",
      "The potential profit is theoretically unlimited, although the trade will lose money each day through time decay if a big move does not occur.\n",
      "The position means you will start with a net debit and only profit when the underlying stock rises above the upper break-even point or falls below the lower break-even point.\n",
      "Profits can be made with a smaller price move if the move happens early in the trade.\n",
      "Let’s take a look at Barchart’s Long Straddle Screener for December 12th. I have added a filer for Market Cap above 40b and total call volume above 2,000.\n",
      "The screener shows some interesting long straddle trades on popular stocks such as CVX, XOM, AAPL, CSCO, PFE, MSFT, OXY and BAC. Let’s walk through a couple of examples.\n",
      "CVX Long Straddle Example\n"
     ]
    }
   ],
   "source": [
    "# On augmente à k=3  qui permet de récupérer plus de contexte pour l'agent génératif.\n",
    "chunk_sizes = [500, 1000, 1500]\n",
    "overlaps = [100, 200]\n",
    "\n",
    "for chunk_size in chunk_sizes:\n",
    "    for overlap in overlaps:\n",
    "        print(f\"➡️ Test avec chunk_size = {chunk_size}, overlap = {overlap}\")\n",
    "        text_splitter4 = RecursiveCharacterTextSplitter(chunk_size=chunk_size, chunk_overlap=overlap)\n",
    "        doc_splits4 = text_splitter4.split_documents(docs)\n",
    "        print(f\"📦 {len(doc_splits4)} chunks générés\")\n",
    "\n",
    "        vectorstore4 = FAISS.from_documents(doc_splits4, embedding=embeddings)\n",
    "        retriever4 = vectorstore4.as_retriever()\n",
    "        \n",
    "        # Test d’une requête\n",
    "        print(\"🔍 Résultat de la requête test:\")\n",
    "        test_question = \"Quelles sont les actions les plus performantes en ce moment ?\"\n",
    "        results4 = retriever4.get_relevant_documents(test_question, k=3)   # la question est encodée en vecteur avec le même embedding\n",
    "        print(results4[0].page_content)"
   ]
  },
  {
   "cell_type": "code",
   "execution_count": 44,
   "id": "fe981a36-9efd-49f8-ae1e-e80fdfc10760",
   "metadata": {},
   "outputs": [
    {
     "name": "stdout",
     "output_type": "stream",
     "text": [
      "➡️ Test avec chunk_size = 100, overlap = 50\n",
      "📦 81817 chunks générés\n",
      "🔍 Résultat de la requête test:\n",
      "2. MercadoLibre\n",
      "➡️ Test avec chunk_size = 100, overlap = 100\n",
      "📦 341687 chunks générés\n",
      "🔍 Résultat de la requête test:\n",
      "2. MercadoLibre\n",
      "➡️ Test avec chunk_size = 200, overlap = 50\n",
      "📦 34153 chunks générés\n",
      "🔍 Résultat de la requête test:\n",
      "2. MercadoLibre\n",
      "➡️ Test avec chunk_size = 200, overlap = 100\n",
      "📦 38333 chunks générés\n",
      "🔍 Résultat de la requête test:\n",
      "2. MercadoLibre\n",
      "➡️ Test avec chunk_size = 300, overlap = 50\n",
      "📦 22270 chunks générés\n",
      "🔍 Résultat de la requête test:\n",
      "FUNDAMENTAL MOMENTUM: PASS\n",
      "TWELVE MINUS ONE MOMENTUM: PASS\n",
      "FINAL RANK: PASS\n",
      "➡️ Test avec chunk_size = 300, overlap = 100\n",
      "📦 22970 chunks générés\n",
      "🔍 Résultat de la requête test:\n",
      "FUNDAMENTAL MOMENTUM: PASS\n",
      "TWELVE MINUS ONE MOMENTUM: PASS\n",
      "FINAL RANK: PASS\n"
     ]
    }
   ],
   "source": [
    "# k=3 et chunk_sizes plus petits \n",
    "chunk_sizes = [100, 200, 300]\n",
    "overlaps = [50, 100]\n",
    "\n",
    "for chunk_size in chunk_sizes:\n",
    "    for overlap in overlaps:\n",
    "        print(f\"➡️ Test avec chunk_size = {chunk_size}, overlap = {overlap}\")\n",
    "        text_splitter5 = RecursiveCharacterTextSplitter(chunk_size=chunk_size, chunk_overlap=overlap)\n",
    "        doc_splits5 = text_splitter5.split_documents(docs)\n",
    "        print(f\"📦 {len(doc_splits5)} chunks générés\")\n",
    "\n",
    "        vectorstore5 = FAISS.from_documents(doc_splits5, embedding=embeddings)\n",
    "        retriever5 = vectorstore5.as_retriever()\n",
    "        \n",
    "        # Test d’une requête\n",
    "        print(\"🔍 Résultat de la requête test:\")\n",
    "        test_question = \"Quelles sont les actions les plus performantes en ce moment ?\"\n",
    "        results5 = retriever5.get_relevant_documents(test_question, k=3)   # la question est encodée en vecteur avec le même embedding\n",
    "        print(results5[0].page_content)"
   ]
  },
  {
   "cell_type": "markdown",
   "id": "e99e344e-bce3-4dad-9552-5b4ef0fdece7",
   "metadata": {},
   "source": [
    "### distance_strategy"
   ]
  },
  {
   "cell_type": "markdown",
   "id": "eeecc018-67a1-40a1-8000-b183b99c7720",
   "metadata": {},
   "source": [
    "Le paramètre distance_strategy dans le contexte de FAISS permet de spécifier la stratégie utilisée pour calculer la similarité entre les vecteurs. \n",
    "Il définit la manière dont les distances entre les vecteurs seront mesurées."
   ]
  },
  {
   "cell_type": "code",
   "execution_count": 35,
   "id": "60207922-51c6-4e52-ab92-69c598e13541",
   "metadata": {},
   "outputs": [
    {
     "name": "stdout",
     "output_type": "stream",
     "text": [
      "🔍 Résultat de la requête test:\n",
      "Moreover, momentum stocks serve as a strategic tool for portfolio diversification. They offer exposure to various sectors and industries, potentially mitigating overall risk. The approach taps into the psychological aspect of investing, leveraging the human tendency to ‘follow the herd.’\n",
      "With that said, these selections stand out for their robust performance and upward trajectories. They also inspire confidence among those who scrutinize the market’s every pulse. Consequently, each stock in this list represents a unique opportunity.\n"
     ]
    }
   ],
   "source": [
    "# Test avec distance Euclidienne\n",
    "vectorstore_l2 = FAISS.from_documents(doc_splits, embedding=embeddings, distance_strategy=\"l2\")\n",
    "retriever_l2 = vectorstore_l2.as_retriever()\n",
    "        \n",
    "# Test d’une requête\n",
    "print(\"🔍 Résultat de la requête test:\")\n",
    "test_question = \"Quelles sont les actions les plus performantes en ce moment ?\"\n",
    "results_l2 = retriever_l2.get_relevant_documents(test_question, k=1)   # la question est encodée en vecteur avec le même embedding\n",
    "print(results_l2[0].page_content)"
   ]
  },
  {
   "cell_type": "code",
   "execution_count": 37,
   "id": "f46a48b2-77b4-4970-ad61-ce56698f4102",
   "metadata": {},
   "outputs": [
    {
     "name": "stdout",
     "output_type": "stream",
     "text": [
      "🔍 Résultat de la requête test:\n",
      "Moreover, momentum stocks serve as a strategic tool for portfolio diversification. They offer exposure to various sectors and industries, potentially mitigating overall risk. The approach taps into the psychological aspect of investing, leveraging the human tendency to ‘follow the herd.’\n",
      "With that said, these selections stand out for their robust performance and upward trajectories. They also inspire confidence among those who scrutinize the market’s every pulse. Consequently, each stock in this list represents a unique opportunity.\n"
     ]
    }
   ],
   "source": [
    "# Test avec distance Cosinus\n",
    "vectorstore_cos = FAISS.from_documents(doc_splits, embedding=embeddings, distance_strategy=\"cosine\")\n",
    "retriever_cos = vectorstore_cos.as_retriever()\n",
    "        \n",
    "# Test d’une requête\n",
    "print(\"🔍 Résultat de la requête test:\")\n",
    "test_question = \"Quelles sont les actions les plus performantes en ce moment ?\"\n",
    "results_cos = retriever_cos.get_relevant_documents(test_question, k=1)   # la question est encodée en vecteur avec le même embedding\n",
    "print(results_cos[0].page_content)"
   ]
  },
  {
   "cell_type": "code",
   "execution_count": 39,
   "id": "996fbade-2a90-4ad7-9e33-3a90e4893656",
   "metadata": {},
   "outputs": [
    {
     "name": "stdout",
     "output_type": "stream",
     "text": [
      "🔍 Résultat de la requête test:\n",
      "Moreover, momentum stocks serve as a strategic tool for portfolio diversification. They offer exposure to various sectors and industries, potentially mitigating overall risk. The approach taps into the psychological aspect of investing, leveraging the human tendency to ‘follow the herd.’\n",
      "With that said, these selections stand out for their robust performance and upward trajectories. They also inspire confidence among those who scrutinize the market’s every pulse. Consequently, each stock in this list represents a unique opportunity.\n"
     ]
    }
   ],
   "source": [
    "# Test avec le produit scalaire maximum\n",
    "vectorstore_inner = FAISS.from_documents(doc_splits, embedding=embeddings, distance_strategy=\"MAX_INNER_PRODUCT\")\n",
    "retriever_inner = vectorstore_inner.as_retriever()\n",
    "        \n",
    "# Test d’une requête\n",
    "print(\"🔍 Résultat de la requête test:\")\n",
    "test_question = \"Quelles sont les actions les plus performantes en ce moment ?\"\n",
    "results_inner = retriever_inner.get_relevant_documents(test_question, k=1)   # la question est encodée en vecteur avec le même embedding\n",
    "print(results_inner[0].page_content)"
   ]
  },
  {
   "cell_type": "code",
   "execution_count": null,
   "id": "d0530cc0-bc8a-49d8-8793-ffa5d283b02f",
   "metadata": {},
   "outputs": [],
   "source": []
  }
 ],
 "metadata": {
  "kernelspec": {
   "display_name": "Python 3 (ipykernel)",
   "language": "python",
   "name": "python3"
  },
  "language_info": {
   "codemirror_mode": {
    "name": "ipython",
    "version": 3
   },
   "file_extension": ".py",
   "mimetype": "text/x-python",
   "name": "python",
   "nbconvert_exporter": "python",
   "pygments_lexer": "ipython3",
   "version": "3.12.4"
  }
 },
 "nbformat": 4,
 "nbformat_minor": 5
}
