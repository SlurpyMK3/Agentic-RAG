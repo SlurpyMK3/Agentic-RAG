{
 "cells": [
  {
   "cell_type": "code",
   "execution_count": 3,
   "id": "9b3fe5cb",
   "metadata": {},
   "outputs": [],
   "source": [
    "%%capture --no-stderr\n",
    "%pip install -U --quiet langchain-community tiktoken langchain-openai langchainhub chromadb langchain langgraph langchain-text-splitters beautifulsoup4"
   ]
  },
  {
   "cell_type": "code",
   "execution_count": null,
   "id": "ccfdda2f",
   "metadata": {},
   "outputs": [],
   "source": [
    "%%capture --no-stderr\n",
    "%pip install pandas "
   ]
  },
  {
   "cell_type": "code",
   "execution_count": 13,
   "id": "954c2636",
   "metadata": {},
   "outputs": [],
   "source": [
    "%%capture --no-stderr\n",
    "%pip install langchain transformers sentence-transformers"
   ]
  },
  {
   "cell_type": "code",
   "execution_count": 18,
   "id": "3768d088",
   "metadata": {},
   "outputs": [],
   "source": [
    "%%capture --no-stderr\n",
    "%pip install hf_xet"
   ]
  },
  {
   "cell_type": "code",
   "execution_count": 1,
   "id": "c2a55200",
   "metadata": {},
   "outputs": [],
   "source": [
    "import getpass\n",
    "import os\n",
    "import pandas as pd\n",
    "\n",
    "from langchain_community.document_loaders.csv_loader import CSVLoader\n",
    "from langchain.schema import Document\n",
    "from langchain_huggingface import HuggingFaceEmbeddings\n",
    "\n"
   ]
  },
  {
   "cell_type": "code",
   "execution_count": 2,
   "id": "1603f593",
   "metadata": {},
   "outputs": [
    {
     "data": {
      "text/html": [
       "<div>\n",
       "<style scoped>\n",
       "    .dataframe tbody tr th:only-of-type {\n",
       "        vertical-align: middle;\n",
       "    }\n",
       "\n",
       "    .dataframe tbody tr th {\n",
       "        vertical-align: top;\n",
       "    }\n",
       "\n",
       "    .dataframe thead th {\n",
       "        text-align: right;\n",
       "    }\n",
       "</style>\n",
       "<table border=\"1\" class=\"dataframe\">\n",
       "  <thead>\n",
       "    <tr style=\"text-align: right;\">\n",
       "      <th></th>\n",
       "      <th>Date</th>\n",
       "      <th>Article_title</th>\n",
       "      <th>Stock_symbol</th>\n",
       "      <th>Url</th>\n",
       "      <th>Publisher</th>\n",
       "      <th>Author</th>\n",
       "      <th>Article</th>\n",
       "      <th>Lsa_summary</th>\n",
       "      <th>Luhn_summary</th>\n",
       "      <th>Textrank_summary</th>\n",
       "      <th>Lexrank_summary</th>\n",
       "    </tr>\n",
       "  </thead>\n",
       "  <tbody>\n",
       "    <tr>\n",
       "      <th>0</th>\n",
       "      <td>2023-12-16 22:00:00 UTC</td>\n",
       "      <td>My 6 Largest Portfolio Holdings Heading Into 2...</td>\n",
       "      <td>AAPL</td>\n",
       "      <td>https://www.nasdaq.com/articles/my-6-largest-p...</td>\n",
       "      <td>NaN</td>\n",
       "      <td>NaN</td>\n",
       "      <td>After an absolute disaster of a year in 2022, ...</td>\n",
       "      <td>3: Apple There's little question that Apple (N...</td>\n",
       "      <td>3: Apple There's little question that Apple (N...</td>\n",
       "      <td>3: Apple There's little question that Apple (N...</td>\n",
       "      <td>3: Apple There's little question that Apple (N...</td>\n",
       "    </tr>\n",
       "    <tr>\n",
       "      <th>1</th>\n",
       "      <td>2023-12-16 22:00:00 UTC</td>\n",
       "      <td>Brokers Suggest Investing in Apple (AAPL): Rea...</td>\n",
       "      <td>AAPL</td>\n",
       "      <td>https://www.nasdaq.com/articles/brokers-sugges...</td>\n",
       "      <td>NaN</td>\n",
       "      <td>NaN</td>\n",
       "      <td>When deciding whether to buy, sell, or hold a ...</td>\n",
       "      <td>Let's take a look at what these Wall Street he...</td>\n",
       "      <td>Click to get this free report Apple Inc. (AAPL...</td>\n",
       "      <td>Let's take a look at what these Wall Street he...</td>\n",
       "      <td>Brokerage Recommendation Trends for AAPL Let's...</td>\n",
       "    </tr>\n",
       "    <tr>\n",
       "      <th>2</th>\n",
       "      <td>2023-12-16 21:00:00 UTC</td>\n",
       "      <td>Company News for Dec 19, 2023</td>\n",
       "      <td>AAPL</td>\n",
       "      <td>https://www.nasdaq.com/articles/company-news-f...</td>\n",
       "      <td>NaN</td>\n",
       "      <td>NaN</td>\n",
       "      <td>Shares of Apple Inc. AAPL lost 0.9% on China’s...</td>\n",
       "      <td>Shares of Apple Inc. AAPL lost 0.9% on China’s...</td>\n",
       "      <td>Click to get this free report Apple Inc. (AAPL...</td>\n",
       "      <td>Click to get this free report Apple Inc. (AAPL...</td>\n",
       "      <td>Click to get this free report Apple Inc. (AAPL...</td>\n",
       "    </tr>\n",
       "    <tr>\n",
       "      <th>3</th>\n",
       "      <td>2023-12-16 21:00:00 UTC</td>\n",
       "      <td>NVIDIA (NVDA) Up 243% YTD: Will It Carry Momen...</td>\n",
       "      <td>AAPL</td>\n",
       "      <td>https://www.nasdaq.com/articles/nvidia-nvda-up...</td>\n",
       "      <td>NaN</td>\n",
       "      <td>NaN</td>\n",
       "      <td>NVIDIA Corporation NVDA has witnessed a remark...</td>\n",
       "      <td>Other Stocks in the $1T Club Apart from NVIDIA...</td>\n",
       "      <td>Other Stocks in the $1T Club Apart from NVIDIA...</td>\n",
       "      <td>Other Stocks in the $1T Club Apart from NVIDIA...</td>\n",
       "      <td>Other Stocks in the $1T Club Apart from NVIDIA...</td>\n",
       "    </tr>\n",
       "    <tr>\n",
       "      <th>4</th>\n",
       "      <td>2023-12-16 21:00:00 UTC</td>\n",
       "      <td>Pre-Market Most Active for Dec 19, 2023 : BMY,...</td>\n",
       "      <td>AAPL</td>\n",
       "      <td>https://www.nasdaq.com/articles/pre-market-mos...</td>\n",
       "      <td>NaN</td>\n",
       "      <td>NaN</td>\n",
       "      <td>The NASDAQ 100 Pre-Market Indicator is up 10.1...</td>\n",
       "      <td>Apple Inc. (AAPL) is +0.86 at $196.75, with 1,...</td>\n",
       "      <td>Apple Inc. (AAPL) is +0.86 at $196.75, with 1,...</td>\n",
       "      <td>Apple Inc. (AAPL) is +0.86 at $196.75, with 1,...</td>\n",
       "      <td>Apple Inc. (AAPL) is +0.86 at $196.75, with 1,...</td>\n",
       "    </tr>\n",
       "  </tbody>\n",
       "</table>\n",
       "</div>"
      ],
      "text/plain": [
       "                      Date                                      Article_title  \\\n",
       "0  2023-12-16 22:00:00 UTC  My 6 Largest Portfolio Holdings Heading Into 2...   \n",
       "1  2023-12-16 22:00:00 UTC  Brokers Suggest Investing in Apple (AAPL): Rea...   \n",
       "2  2023-12-16 21:00:00 UTC                      Company News for Dec 19, 2023   \n",
       "3  2023-12-16 21:00:00 UTC  NVIDIA (NVDA) Up 243% YTD: Will It Carry Momen...   \n",
       "4  2023-12-16 21:00:00 UTC  Pre-Market Most Active for Dec 19, 2023 : BMY,...   \n",
       "\n",
       "  Stock_symbol                                                Url Publisher  \\\n",
       "0         AAPL  https://www.nasdaq.com/articles/my-6-largest-p...       NaN   \n",
       "1         AAPL  https://www.nasdaq.com/articles/brokers-sugges...       NaN   \n",
       "2         AAPL  https://www.nasdaq.com/articles/company-news-f...       NaN   \n",
       "3         AAPL  https://www.nasdaq.com/articles/nvidia-nvda-up...       NaN   \n",
       "4         AAPL  https://www.nasdaq.com/articles/pre-market-mos...       NaN   \n",
       "\n",
       "   Author                                            Article  \\\n",
       "0     NaN  After an absolute disaster of a year in 2022, ...   \n",
       "1     NaN  When deciding whether to buy, sell, or hold a ...   \n",
       "2     NaN  Shares of Apple Inc. AAPL lost 0.9% on China’s...   \n",
       "3     NaN  NVIDIA Corporation NVDA has witnessed a remark...   \n",
       "4     NaN  The NASDAQ 100 Pre-Market Indicator is up 10.1...   \n",
       "\n",
       "                                         Lsa_summary  \\\n",
       "0  3: Apple There's little question that Apple (N...   \n",
       "1  Let's take a look at what these Wall Street he...   \n",
       "2  Shares of Apple Inc. AAPL lost 0.9% on China’s...   \n",
       "3  Other Stocks in the $1T Club Apart from NVIDIA...   \n",
       "4  Apple Inc. (AAPL) is +0.86 at $196.75, with 1,...   \n",
       "\n",
       "                                        Luhn_summary  \\\n",
       "0  3: Apple There's little question that Apple (N...   \n",
       "1  Click to get this free report Apple Inc. (AAPL...   \n",
       "2  Click to get this free report Apple Inc. (AAPL...   \n",
       "3  Other Stocks in the $1T Club Apart from NVIDIA...   \n",
       "4  Apple Inc. (AAPL) is +0.86 at $196.75, with 1,...   \n",
       "\n",
       "                                    Textrank_summary  \\\n",
       "0  3: Apple There's little question that Apple (N...   \n",
       "1  Let's take a look at what these Wall Street he...   \n",
       "2  Click to get this free report Apple Inc. (AAPL...   \n",
       "3  Other Stocks in the $1T Club Apart from NVIDIA...   \n",
       "4  Apple Inc. (AAPL) is +0.86 at $196.75, with 1,...   \n",
       "\n",
       "                                     Lexrank_summary  \n",
       "0  3: Apple There's little question that Apple (N...  \n",
       "1  Brokerage Recommendation Trends for AAPL Let's...  \n",
       "2  Click to get this free report Apple Inc. (AAPL...  \n",
       "3  Other Stocks in the $1T Club Apart from NVIDIA...  \n",
       "4  Apple Inc. (AAPL) is +0.86 at $196.75, with 1,...  "
      ]
     },
     "execution_count": 2,
     "metadata": {},
     "output_type": "execute_result"
    }
   ],
   "source": [
    "df = pd.read_csv(\"AAPL.csv\")\n",
    "df.head()"
   ]
  },
  {
   "cell_type": "code",
   "execution_count": 3,
   "id": "4952c9e2",
   "metadata": {},
   "outputs": [
    {
     "name": "stdout",
     "output_type": "stream",
     "text": [
      "NaNs in Publisher: 8865\n",
      "NaNs in Author: 9338\n"
     ]
    }
   ],
   "source": [
    "print(\"NaNs in Publisher:\", df['Publisher'].isna().sum())\n",
    "print(\"NaNs in Author:\", df['Author'].isna().sum())"
   ]
  },
  {
   "cell_type": "code",
   "execution_count": 4,
   "id": "f462899c",
   "metadata": {},
   "outputs": [],
   "source": [
    "df.drop(['Publisher', 'Author'], axis=1, inplace=True)"
   ]
  },
  {
   "cell_type": "code",
   "execution_count": 5,
   "id": "7fbb8492",
   "metadata": {},
   "outputs": [],
   "source": [
    "df_sample = df.head(10)\n",
    "\n",
    "df_sample.to_csv(\"AAPL_sample.csv\", index=False)"
   ]
  },
  {
   "cell_type": "code",
   "execution_count": 6,
   "id": "fae1edf0",
   "metadata": {},
   "outputs": [],
   "source": [
    "model_name = \"sentence-transformers/all-mpnet-base-v2\"\n",
    "model_kwargs = {'device': 'cuda'}\n",
    "encode_kwargs = {'normalize_embeddings': False}\n",
    "hf = HuggingFaceEmbeddings(\n",
    "    model_name=model_name,\n",
    "    model_kwargs=model_kwargs,\n",
    "    encode_kwargs=encode_kwargs\n",
    ")"
   ]
  },
  {
   "cell_type": "code",
   "execution_count": 7,
   "id": "ed54a1e1",
   "metadata": {},
   "outputs": [],
   "source": [
    "from langchain.text_splitter import RecursiveCharacterTextSplitter\n",
    "from langchain.vectorstores import Chroma\n",
    "import chromadb"
   ]
  },
  {
   "cell_type": "code",
   "execution_count": 8,
   "id": "dc0e5db3",
   "metadata": {},
   "outputs": [
    {
     "name": "stdout",
     "output_type": "stream",
     "text": [
      "1.0.4\n"
     ]
    }
   ],
   "source": [
    "print(chromadb.__version__)"
   ]
  },
  {
   "cell_type": "code",
   "execution_count": 24,
   "id": "9a37650f",
   "metadata": {},
   "outputs": [],
   "source": [
    "from langchain.schema import Document  \n",
    "import os\n",
    "\n",
    "db_location = \"./chrome_sample\"\n",
    "add_documents = not os.path.exists(db_location)\n",
    "\n",
    "if add_documents:\n",
    "    documents = []\n",
    "    ids = []\n",
    "\n",
    "    for i, row in df_sample.iterrows():\n",
    "        page_content = (\n",
    "            f\"{row['Article_title']}\\n\\n\"\n",
    "            f\"{row['Article']}\\n\\n\"\n",
    "            f\"Lsa: {row['Lsa_summary']}\\n\"\n",
    "            f\"Luhn: {row['Luhn_summary']}\\n\"\n",
    "            f\"TextRank: {row['Textrank_summary']}\\n\"\n",
    "            f\"LexRank: {row['Lexrank_summary']}\"\n",
    "        )\n",
    "\n",
    "        document = Document(\n",
    "            page_content=page_content,\n",
    "            metadata={\"date\": row[\"Date\"], \"stock\": row[\"Stock_symbol\"], \"url\": row[\"Url\"]},\n",
    "            id=str(i)\n",
    "        )\n",
    "        ids.append(str(i))\n",
    "        documents.append(document)\n",
    "\n",
    "    \n",
    "    text_splitter = RecursiveCharacterTextSplitter.from_tiktoken_encoder(\n",
    "        chunk_size=100,\n",
    "        chunk_overlap=50\n",
    "    )\n",
    "    doc_splits = text_splitter.split_documents(documents)\n",
    "\n",
    "    \n",
    "    vectorstore = Chroma.from_documents(\n",
    "        documents=doc_splits,\n",
    "        persist_directory=db_location,\n",
    "        collection_name=\"rag-chroma\",\n",
    "        embedding=hf\n",
    "    )\n",
    "\n",
    "\n",
    "retriever = vectorstore.as_retriever()\n",
    "\n"
   ]
  },
  {
   "cell_type": "code",
   "execution_count": null,
   "id": "c72104db",
   "metadata": {},
   "outputs": [
    {
     "name": "stdout",
     "output_type": "stream",
     "text": [
      "Chroma DB not found.\n"
     ]
    }
   ],
   "source": [
    "import shutil\n",
    "import os\n",
    "\n",
    "db_location = \"./chrome_sample\"\n",
    "\n",
    "if os.path.exists(db_location):\n",
    "    shutil.rmtree(db_location)\n",
    "    print(\"Chroma DB deleted.\")\n",
    "else:\n",
    "    print(\"Chroma DB not found.\")\n"
   ]
  },
  {
   "cell_type": "code",
   "execution_count": 25,
   "id": "b89f3773",
   "metadata": {},
   "outputs": [],
   "source": [
    "from langchain.tools.retriever import create_retriever_tool\n",
    "\n",
    "retriever_tool = create_retriever_tool(\n",
    "    retriever,\n",
    "    \"retrieve_aapl_articles\",\n",
    "    \"Search and return information about Apple (AAPL) articles, stock updates, and summaries.\",\n",
    ")\n",
    "\n",
    "tools = [retriever_tool]"
   ]
  },
  {
   "cell_type": "code",
   "execution_count": 26,
   "id": "b351c740",
   "metadata": {},
   "outputs": [],
   "source": [
    "### LLM\n",
    "from langchain_ollama import ChatOllama\n",
    "from langchain_core.prompts import ChatPromptTemplate\n",
    "\n",
    "local_llm = \"llama3\"\n",
    "llm = ChatOllama(model=local_llm, temperature=0)\n",
    "llm_json_mode = ChatOllama(model=local_llm, temperature=0, format=\"json\")\n"
   ]
  },
  {
   "cell_type": "code",
   "execution_count": 28,
   "id": "5d61251a",
   "metadata": {},
   "outputs": [
    {
     "name": "stdout",
     "output_type": "stream",
     "text": [
      "\n",
      "\n",
      "-------------------------------\n",
      "\n",
      "\n",
      "\n",
      "content='I\\'m happy to help!\\n\\nSince you asked about NVIDIA (NVDA), I\\'ll focus on the relevant articles. Here are some key points:\\n\\n1. **Generative AI investments**: The article \"NVIDIA Corporation Price and Consensus\" suggests that NVDA\\'s surge is driven by hopes that the company will be a prime beneficiary of growing investments in generative AI. This could carry momentum into 2024.\\n2. **CEO Jensen Huang\\'s vision**: In the article \"My 6 Largest Portfolio Holdings Heading Into 2024 And The Important Investing Lesson I\", it\\'s mentioned that CEO Jensen Huang has a knack for recognizing technology trends and adapting Nvidia\\'s processors to meet those needs. This is evident in Nvidia\\'s dominance in the discrete desktop GPU space, controlling roughly 70% of the market.\\n3. **Robust financial performance**: According to the article \"NVIDIA Corporation NVDA has witnessed a remarkable run\", NVIDIA achieved a massive milestone by joining the exclusive club of companies with a $1 trillion market capitalization. This reflects investors\\' confidence in Nvidia\\'s strategic positioning, robust financial performance, and pivotal role in shaping transformative technologies like AI, gaming, and data center solutions.\\n\\nIn summary, NVIDIA (NVDA) has been driven by hopes for generative AI investments, CEO Jensen Huang\\'s vision, and robust financial performance. These factors could contribute to the company\\'s momentum in 2024.\\n\\nPlease let me know if you have any further questions or if there\\'s anything else I can help with!' additional_kwargs={} response_metadata={'model': 'llama3', 'created_at': '2025-04-17T12:21:24.57841912Z', 'done': True, 'done_reason': 'stop', 'total_duration': 18875994250, 'load_duration': 1674380290, 'prompt_eval_count': 671, 'prompt_eval_duration': 872363604, 'eval_count': 304, 'eval_duration': 16328246021, 'message': Message(role='assistant', content='', images=None, tool_calls=None), 'model_name': 'llama3'} id='run-898daa77-ce58-4b3e-9528-d65ec5f4a375-0' usage_metadata={'input_tokens': 671, 'output_tokens': 304, 'total_tokens': 975}\n",
      "\n",
      "\n",
      "-------------------------------\n",
      "\n",
      "\n",
      "\n"
     ]
    }
   ],
   "source": [
    "template = \"\"\"\n",
    "You are an exeprt in answering questions about Apple (AAPL) articles, stock updates, and summaries\n",
    "\n",
    "Here are some relevant articles: {articles}\n",
    "\n",
    "Here is the question to answer: {question}\n",
    "\"\"\"\n",
    "prompt = ChatPromptTemplate.from_template(template)\n",
    "chain = prompt | llm\n",
    "\n",
    "while True:\n",
    "    print(\"\\n\\n-------------------------------\")\n",
    "    question = input(\"Ask your question (q to quit): \")\n",
    "    print(\"\\n\\n\")\n",
    "    if question == \"q\":\n",
    "        break\n",
    "    \n",
    "    articles = retriever.invoke(question)\n",
    "    result = chain.invoke({\"articles\": articles, \"question\": question})\n",
    "    print(result)"
   ]
  }
 ],
 "metadata": {
  "kernelspec": {
   "display_name": ".venv",
   "language": "python",
   "name": "python3"
  },
  "language_info": {
   "codemirror_mode": {
    "name": "ipython",
    "version": 3
   },
   "file_extension": ".py",
   "mimetype": "text/x-python",
   "name": "python",
   "nbconvert_exporter": "python",
   "pygments_lexer": "ipython3",
   "version": "3.12.3"
  }
 },
 "nbformat": 4,
 "nbformat_minor": 5
}
